{
 "cells": [
  {
   "cell_type": "markdown",
   "metadata": {},
   "source": [
    "## System Efficiency...the clock matters"
   ]
  },
  {
   "cell_type": "markdown",
   "metadata": {},
   "source": [
    "### Introduction\n",
    "In Module 7 we discussed NLP system performance in terms of the *effectiveness* of an NLP system compared to human annotations. We focused on measures like recall, precision, and accuracy. In this notebook we will explore another measure of NLP systems, system *efficiency*. Testing an NLP system's efficiency asks, \"How fast is it?\" Or, put another, more practical way, \"Is the system *fast enough?*\"\n",
    "\n",
    "In the real world of clinical NLP, increasingly we want to process ever more notes. NLP technology, and the hardware that supports it, improved dramatically over the past 15 years. Critically, hardware costs have plummeted at the same time as the HITECH Act made vast quantities of clinical data easier to create and exchange.\n",
    "\n",
    "But as we process more and more notes we need to be mindful of how long it takes to do so. Processing efficiency becomes increasingly important as the size of clinical datasets grows. In clinical natural language processing (NLP), even small increases in processing throughput are important when handling very large note corpora. \n",
    "### The Clock on the Wall\n",
    "An extreme example is the U.S. Veterans Administration VINCI national data warehouse, which contains 2-3 billion notes. Divita et al. demonstrated the effect of note processing efficiency in VINCI studies (see the required article for this Module). In their work, 6 million records is considered a representative national sample for many applications. Shaving off 100 milliseconds (i.e., one-tenth of second) of processing time per note in their benchmark system (401 milliseconds was their nominal per-note-processing time) **would save nearly a week** of clock time for a corpus of that size.\n",
    "\n",
    "To assess efficiency, we focus on “clock time,” the amount of real time, from the human perspective, a process takes to complete. To put clock time into a *real-world context, see the real-time, near real-time, and daily examples* in the Module 10 lecture. In this notebook, let’s explore the scenario (a very practical one as you start to build your project!) where you, as a researcher, are tweaking an NLP algorithm and have to wait for processing after each tweak.\n",
    "\n",
    "\n",
    "\n",
    "\n"
   ]
  },
  {
   "cell_type": "markdown",
   "metadata": {},
   "source": [
    "### The `timeit` library\n",
    "First we need some Python tools that can provide a stopwatch for measuring how long Python processes take to run. These will allow us to see where clock-time bottlenecks are. For more information on the timeit library, [look here in the Python documention.](https://docs.python.org/2/library/timeit.html#)\n",
    "\n"
   ]
  },
  {
   "cell_type": "code",
   "execution_count": 1,
   "metadata": {},
   "outputs": [],
   "source": [
    "# As usual, let's import what we need...\n",
    "import timeit\n",
    "import numpy as np  \n"
   ]
  },
  {
   "cell_type": "code",
   "execution_count": 2,
   "metadata": {},
   "outputs": [],
   "source": [
    "# Now we define a test function that we can use to practice:\n",
    "def test():\n",
    "    '''A test function that builds a list of the first 10,000 integers by appending them -- nothing fancy'''\n",
    "    mylist = []\n",
    "    for i in range(100000):\n",
    "        mylist.append(i)\n",
    "        "
   ]
  },
  {
   "cell_type": "markdown",
   "metadata": {},
   "source": [
    "`Timeit` provides a new class and a few methods to measure the time it takes to execute statements. To keep things simple, we won't worry about the class business now, just focus on the methods. One useful method is: \n",
    "\n",
    "`timeit.repeat(stmt = '<the Python code statement you intend to time>', \\\n",
    "    setup= '<any Python code to run each time the REPEAT below starts>' \\  #optional\n",
    "    repeat = <number>, \\ #i.e., how many times to REPEAT the number of runs below AND average the results \\\n",
    "    number = <number>) #how many times to run the stmt code, i.e.,the TOTAL runs is (repeat*number)`\n",
    "\n",
    "In the first example, we will run test(), which appends 10,000 times, for 10 batches (i.e., `number = 10`)"
   ]
  },
  {
   "cell_type": "code",
   "execution_count": 3,
   "metadata": {},
   "outputs": [
    {
     "name": "stdout",
     "output_type": "stream",
     "text": [
      "... The default repeat is 3, so 30 runs of test(), or **300,000** appends total\n",
      " for a series of  [0.15271521173417568, 0.09432530403137207, 0.09214652329683304]  seconds.\n"
     ]
    }
   ],
   "source": [
    "#1) Run test() in loops of 10, average those, and repeat 3 times (the default if repeat is not specified):\n",
    "runtime = timeit.repeat(stmt = 'test()', \n",
    "                        setup = 'print(\".\", end = \"\"); from __main__ import test', #print a period after each repeat\n",
    "                        number = 10)\n",
    "print(' The default repeat is 3, so 30 runs of test(), or **300,000** appends total\\n for a series of ', \\\n",
    "      runtime, ' seconds.')"
   ]
  },
  {
   "cell_type": "markdown",
   "metadata": {
    "slideshow": {
     "slide_type": "fragment"
    }
   },
   "source": [
    "Pretty fast. \n",
    "\n",
    "How may 100ths of seconds, on average, did the three runs take to append 10,000 times in`test()`?"
   ]
  },
  {
   "cell_type": "code",
   "execution_count": 4,
   "metadata": {},
   "outputs": [
    {
     "name": "stdout",
     "output_type": "stream",
     "text": [
      "0.113062346354 seconds.\n"
     ]
    }
   ],
   "source": [
    "print(np.mean(runtime),\"seconds.\")"
   ]
  },
  {
   "cell_type": "code",
   "execution_count": 5,
   "metadata": {},
   "outputs": [
    {
     "name": "stdout",
     "output_type": "stream",
     "text": [
      "..........Repeat 10 batches of 100 runs and average the times for batch, **10,000,000** appends total\n",
      " for a series of  [0.9919887040741742, 0.9348341007716954, 0.9351916927844286, 0.9337331089191139, 0.9077098178677261, 0.9247022573836148, 0.928468078840524, 0.9310754900798202, 0.9242062061093748, 0.9265798418782651]  seconds.\n"
     ]
    }
   ],
   "source": [
    "#2) Now run test() in batches of 100 and repeat 10 times, then average the time for each repeat loop\n",
    "runtime = (timeit.repeat(stmt = 'test()', \n",
    "                         setup = 'print(\".\", end = \"\"); from __main__ import test', #print a period after each repeat\n",
    "                         repeat = 10, \n",
    "                         number = 100))\n",
    "print('Repeat 10 batches of 100 runs and average the times for batch, **10,000,000** appends total\\n for a series of ', runtime, ' seconds.')\n"
   ]
  },
  {
   "cell_type": "code",
   "execution_count": 6,
   "metadata": {},
   "outputs": [
    {
     "name": "stdout",
     "output_type": "stream",
     "text": [
      "0.933848929871 seconds.\n"
     ]
    }
   ],
   "source": [
    "print(np.mean(runtime),\"seconds.\")"
   ]
  },
  {
   "cell_type": "markdown",
   "metadata": {},
   "source": [
    "Again, pretty fast. Compare the overall average for both runs above...is it what you expected? \n",
    "\n",
    "Run the two cells above again. You will see that the mean time is slightly different. **Why is that?** Because the CPU is multitasking. If this Python notebook was the only process running on the CPU, the times would be much more consistent. But you are sharing the CPU with the rest of the class and with everyone else using the server. And, of course, the server has several tasks of its own to do. **That is why, when timing code, it's important to average over several runs to smooth out the interference from other processes**."
   ]
  },
  {
   "cell_type": "code",
   "execution_count": 7,
   "metadata": {},
   "outputs": [
    {
     "name": "stdout",
     "output_type": "stream",
     "text": [
      "--> WAIT for it!\n",
      "."
     ]
    },
    {
     "ename": "KeyboardInterrupt",
     "evalue": "",
     "output_type": "error",
     "traceback": [
      "\u001b[0;31m---------------------------------------------------------------------------\u001b[0m",
      "\u001b[0;31mKeyboardInterrupt\u001b[0m                         Traceback (most recent call last)",
      "\u001b[0;32m<ipython-input-7-935873c628e0>\u001b[0m in \u001b[0;36m<module>\u001b[0;34m()\u001b[0m\n\u001b[1;32m      5\u001b[0m                     \u001b[0msetup\u001b[0m \u001b[0;34m=\u001b[0m \u001b[0;34m'print(\".\", end = \"\"); from __main__ import test'\u001b[0m\u001b[0;34m,\u001b[0m \u001b[0;31m#print a period after each repeat\u001b[0m\u001b[0;34m\u001b[0m\u001b[0m\n\u001b[1;32m      6\u001b[0m                     \u001b[0mrepeat\u001b[0m \u001b[0;34m=\u001b[0m \u001b[0;36m3\u001b[0m\u001b[0;34m,\u001b[0m\u001b[0;34m\u001b[0m\u001b[0m\n\u001b[0;32m----> 7\u001b[0;31m                     number = 1000)\n\u001b[0m\u001b[1;32m      8\u001b[0m \u001b[0mprint\u001b[0m\u001b[0;34m(\u001b[0m\u001b[0;34m\"\\nThe average time to append 10,000 integers 1,000 times (from 3 repeats) is \"\u001b[0m\u001b[0;34m,\u001b[0m \u001b[0mnp\u001b[0m\u001b[0;34m.\u001b[0m\u001b[0mmean\u001b[0m\u001b[0;34m(\u001b[0m\u001b[0mruntime\u001b[0m\u001b[0;34m)\u001b[0m\u001b[0;34m,\u001b[0m \u001b[0;34m\"seconds\"\u001b[0m\u001b[0;34m)\u001b[0m\u001b[0;34m\u001b[0m\u001b[0m\n",
      "\u001b[0;32m/opt/conda/lib/python3.6/timeit.py\u001b[0m in \u001b[0;36mrepeat\u001b[0;34m(stmt, setup, timer, repeat, number, globals)\u001b[0m\n\u001b[1;32m    236\u001b[0m            repeat=default_repeat, number=default_number, globals=None):\n\u001b[1;32m    237\u001b[0m     \u001b[0;34m\"\"\"Convenience function to create Timer object and call repeat method.\"\"\"\u001b[0m\u001b[0;34m\u001b[0m\u001b[0m\n\u001b[0;32m--> 238\u001b[0;31m     \u001b[0;32mreturn\u001b[0m \u001b[0mTimer\u001b[0m\u001b[0;34m(\u001b[0m\u001b[0mstmt\u001b[0m\u001b[0;34m,\u001b[0m \u001b[0msetup\u001b[0m\u001b[0;34m,\u001b[0m \u001b[0mtimer\u001b[0m\u001b[0;34m,\u001b[0m \u001b[0mglobals\u001b[0m\u001b[0;34m)\u001b[0m\u001b[0;34m.\u001b[0m\u001b[0mrepeat\u001b[0m\u001b[0;34m(\u001b[0m\u001b[0mrepeat\u001b[0m\u001b[0;34m,\u001b[0m \u001b[0mnumber\u001b[0m\u001b[0;34m)\u001b[0m\u001b[0;34m\u001b[0m\u001b[0m\n\u001b[0m\u001b[1;32m    239\u001b[0m \u001b[0;34m\u001b[0m\u001b[0m\n\u001b[1;32m    240\u001b[0m \u001b[0;32mdef\u001b[0m \u001b[0mmain\u001b[0m\u001b[0;34m(\u001b[0m\u001b[0margs\u001b[0m\u001b[0;34m=\u001b[0m\u001b[0;32mNone\u001b[0m\u001b[0;34m,\u001b[0m \u001b[0;34m*\u001b[0m\u001b[0;34m,\u001b[0m \u001b[0m_wrap_timer\u001b[0m\u001b[0;34m=\u001b[0m\u001b[0;32mNone\u001b[0m\u001b[0;34m)\u001b[0m\u001b[0;34m:\u001b[0m\u001b[0;34m\u001b[0m\u001b[0m\n",
      "\u001b[0;32m/opt/conda/lib/python3.6/timeit.py\u001b[0m in \u001b[0;36mrepeat\u001b[0;34m(self, repeat, number)\u001b[0m\n\u001b[1;32m    204\u001b[0m         \u001b[0mr\u001b[0m \u001b[0;34m=\u001b[0m \u001b[0;34m[\u001b[0m\u001b[0;34m]\u001b[0m\u001b[0;34m\u001b[0m\u001b[0m\n\u001b[1;32m    205\u001b[0m         \u001b[0;32mfor\u001b[0m \u001b[0mi\u001b[0m \u001b[0;32min\u001b[0m \u001b[0mrange\u001b[0m\u001b[0;34m(\u001b[0m\u001b[0mrepeat\u001b[0m\u001b[0;34m)\u001b[0m\u001b[0;34m:\u001b[0m\u001b[0;34m\u001b[0m\u001b[0m\n\u001b[0;32m--> 206\u001b[0;31m             \u001b[0mt\u001b[0m \u001b[0;34m=\u001b[0m \u001b[0mself\u001b[0m\u001b[0;34m.\u001b[0m\u001b[0mtimeit\u001b[0m\u001b[0;34m(\u001b[0m\u001b[0mnumber\u001b[0m\u001b[0;34m)\u001b[0m\u001b[0;34m\u001b[0m\u001b[0m\n\u001b[0m\u001b[1;32m    207\u001b[0m             \u001b[0mr\u001b[0m\u001b[0;34m.\u001b[0m\u001b[0mappend\u001b[0m\u001b[0;34m(\u001b[0m\u001b[0mt\u001b[0m\u001b[0;34m)\u001b[0m\u001b[0;34m\u001b[0m\u001b[0m\n\u001b[1;32m    208\u001b[0m         \u001b[0;32mreturn\u001b[0m \u001b[0mr\u001b[0m\u001b[0;34m\u001b[0m\u001b[0m\n",
      "\u001b[0;32m/opt/conda/lib/python3.6/timeit.py\u001b[0m in \u001b[0;36mtimeit\u001b[0;34m(self, number)\u001b[0m\n\u001b[1;32m    176\u001b[0m         \u001b[0mgc\u001b[0m\u001b[0;34m.\u001b[0m\u001b[0mdisable\u001b[0m\u001b[0;34m(\u001b[0m\u001b[0;34m)\u001b[0m\u001b[0;34m\u001b[0m\u001b[0m\n\u001b[1;32m    177\u001b[0m         \u001b[0;32mtry\u001b[0m\u001b[0;34m:\u001b[0m\u001b[0;34m\u001b[0m\u001b[0m\n\u001b[0;32m--> 178\u001b[0;31m             \u001b[0mtiming\u001b[0m \u001b[0;34m=\u001b[0m \u001b[0mself\u001b[0m\u001b[0;34m.\u001b[0m\u001b[0minner\u001b[0m\u001b[0;34m(\u001b[0m\u001b[0mit\u001b[0m\u001b[0;34m,\u001b[0m \u001b[0mself\u001b[0m\u001b[0;34m.\u001b[0m\u001b[0mtimer\u001b[0m\u001b[0;34m)\u001b[0m\u001b[0;34m\u001b[0m\u001b[0m\n\u001b[0m\u001b[1;32m    179\u001b[0m         \u001b[0;32mfinally\u001b[0m\u001b[0;34m:\u001b[0m\u001b[0;34m\u001b[0m\u001b[0m\n\u001b[1;32m    180\u001b[0m             \u001b[0;32mif\u001b[0m \u001b[0mgcold\u001b[0m\u001b[0;34m:\u001b[0m\u001b[0;34m\u001b[0m\u001b[0m\n",
      "\u001b[0;32m/opt/conda/lib/python3.6/timeit.py\u001b[0m in \u001b[0;36minner\u001b[0;34m(_it, _timer)\u001b[0m\n",
      "\u001b[0;32m<ipython-input-2-19abce010a5d>\u001b[0m in \u001b[0;36mtest\u001b[0;34m()\u001b[0m\n\u001b[1;32m      4\u001b[0m     \u001b[0mmylist\u001b[0m \u001b[0;34m=\u001b[0m \u001b[0;34m[\u001b[0m\u001b[0;34m]\u001b[0m\u001b[0;34m\u001b[0m\u001b[0m\n\u001b[1;32m      5\u001b[0m     \u001b[0;32mfor\u001b[0m \u001b[0mi\u001b[0m \u001b[0;32min\u001b[0m \u001b[0mrange\u001b[0m\u001b[0;34m(\u001b[0m\u001b[0;36m100000\u001b[0m\u001b[0;34m)\u001b[0m\u001b[0;34m:\u001b[0m\u001b[0;34m\u001b[0m\u001b[0m\n\u001b[0;32m----> 6\u001b[0;31m         \u001b[0mmylist\u001b[0m\u001b[0;34m.\u001b[0m\u001b[0mappend\u001b[0m\u001b[0;34m(\u001b[0m\u001b[0mi\u001b[0m\u001b[0;34m)\u001b[0m\u001b[0;34m\u001b[0m\u001b[0m\n\u001b[0m\u001b[1;32m      7\u001b[0m \u001b[0;34m\u001b[0m\u001b[0m\n",
      "\u001b[0;31mKeyboardInterrupt\u001b[0m: "
     ]
    }
   ],
   "source": [
    "# 3) Okay, now let's increase the number of runs one more time: Run test() in batches of 1,000, average \\\n",
    "# the results, and repeat 5 times:\n",
    "print(\"--> WAIT for it!\")\n",
    "runtime = timeit.repeat(stmt = 'test()', \n",
    "                    setup = 'print(\".\", end = \"\"); from __main__ import test', #print a period after each repeat\n",
    "                    repeat = 3, \n",
    "                    number = 1000)\n",
    "print(\"\\nThe average time to append 10,000 integers 1,000 times (from 3 repeats) is \", np.mean(runtime), \"seconds\")"
   ]
  },
  {
   "cell_type": "markdown",
   "metadata": {},
   "source": [
    "Again, do these execution times for the three examples seem about what you expected? **It is reassuringly linear**, that is, every time we increase the number of runs by a factor of 10 the execution time also increases roughly by a factor of 10."
   ]
  },
  {
   "cell_type": "markdown",
   "metadata": {},
   "source": [
    "#### Now lets time some NLP processes...\n",
    "One annoying feature of `timeit` is that it really only wants to clock a single statement. That means that you need to put the code that you want to time inside of a function. It also means you need to `import` that function's parameters, as shown below. *If you find a way to time multiple statements in timeit, do let the class know! The documentation implies it is possible, but it is not clear to us how....* \n",
    "\n",
    "We are going to pinch code from the implementation notenook back in Module 7, the code that segments a note and then runs the PyConText assertion process on those segments. **Note:** in your project, and in the real world, you would be processing hundreds or thousands of notes in a typical pipeline run. We *simulate* that in this exercise by timing the pipeline as it runs on one note hundred of times, over and over. This is not a brilliant approach to simulation, because any given note might be particularly easy or particularly hard for segmentation and context assertion. \n",
    "\n",
    "**At the end of the notebook, if you are you feeling adventurous, pinch the code from an earlier notebook, read in a hundred notes, and loop over them with the timer. :) If you do that, you will notice a decidedly different mean runtime per note.**\n"
   ]
  },
  {
   "cell_type": "code",
   "execution_count": 8,
   "metadata": {},
   "outputs": [],
   "source": [
    "#Do the usual imports\n",
    "from pipeUtils import Document\n",
    "from pipeUtils import Annotation\n",
    "\n",
    "from wrapperPyConText import ConTextPipe\n",
    "from PyRuSH.RuSH import RuSH\n",
    "\n",
    "#Now create a document instance and populate it with grab a single note and its annotations\n",
    "doc = Document() #create a document instance\n",
    "doc.load_document_from_file('data/test.txt') #use the document methods to read in the note and its annotations\n",
    "doc.load_annotations_from_brat('data/test.ann')\n",
    "\n",
    "#Next, read in the sementer rule set, in the KB directory, and create a sentence segmenter instance\n",
    "sentence_rules= 'KB/rush_rules.tsv'\n",
    "sentence_segmenter = RuSH(sentence_rules)"
   ]
  },
  {
   "cell_type": "markdown",
   "metadata": {},
   "source": [
    "The information extraction rule set below is teeny. This is really a toy set of rules; a real pipeline will have far more rules and thus will run more slowly than our experiments here."
   ]
  },
  {
   "cell_type": "code",
   "execution_count": 9,
   "metadata": {},
   "outputs": [],
   "source": [
    "#Load the information extraction rules. This is a toy set, a real pipeline will have many ruch rules.\n",
    "#and thus a real pipeline will be slower.\n",
    "target_rules='''\n",
    "Comments: ''\n",
    "Direction: ''\n",
    "Lex: pain\n",
    "Regex: ''\n",
    "Type: Depression_Symptom\n",
    "---\n",
    "Comments: ''\n",
    "Direction: ''\n",
    "Lex: depression\n",
    "Regex: 'depres\\\\w+'\n",
    "Type: Depression_Symptom\n",
    "---\n",
    "Comments: ''\n",
    "Direction: ''\n",
    "Lex: suicidal\n",
    "Regex: 'suicidal\\\\s*ideation'\n",
    "Type: Depression_Symptom\n",
    "'''"
   ]
  },
  {
   "cell_type": "markdown",
   "metadata": {},
   "source": [
    "To use `timeit`, we need to wrap the segmenter and context code into a function we can time."
   ]
  },
  {
   "cell_type": "code",
   "execution_count": 10,
   "metadata": {},
   "outputs": [],
   "source": [
    "def do_anns(document):\n",
    "    '''A test function that wrap a document segmenter and context asserter so we can time the runtime of both.'''\n",
    "    #segment the document's sentences\n",
    "    sentences=sentence_segmenter.segToSentenceSpans(doc.text)\n",
    "    i=0\n",
    "    for sentence in sentences: \n",
    "        i=i+1  #incrementing the index\n",
    "        doc.annotations.append(Annotation(start_index=sentence.begin,\n",
    "                                          end_index=sentence.end, \n",
    "                                          type=\"Sentence\", \n",
    "                                          ann_id='Sent_'+str(i)))\n",
    "    #now run context on each sentence segment\n",
    "    context_pipe = ConTextPipe(target_rules, rule_set)\n",
    "    doc.annotations = [] #a subtle 'persistence' side-effect here; if not reset it accumulates across runs\n",
    "    for a in doc.annotations: #loop through the sentences and run the context algorithm over each\n",
    "        if a.type == \"Sentence\":\n",
    "            b = context_pipe.process(a, doc.text)\n",
    "            doc.annotations.extend(b)\n",
    "                "
   ]
  },
  {
   "cell_type": "markdown",
   "metadata": {},
   "source": [
    "Now we are all set to time the new \"segmenter-context\" function. We will make three runs, each time adding more context rules. More rules mean more *effective* context assertion, but that comes at the price of lower efficiencey (slower performance), as we will see."
   ]
  },
  {
   "cell_type": "code",
   "execution_count": 13,
   "metadata": {},
   "outputs": [
    {
     "name": "stdout",
     "output_type": "stream",
     "text": [
      "...Time(s) for rule set  KB/general_modifiers_50-rules.yml for 10 notes:  [1.6112961219623685, 1.5555519787594676, 1.5433782050386071]\n",
      ".."
     ]
    },
    {
     "ename": "KeyboardInterrupt",
     "evalue": "",
     "output_type": "error",
     "traceback": [
      "\u001b[0;31m---------------------------------------------------------------------------\u001b[0m",
      "\u001b[0;31mKeyboardInterrupt\u001b[0m                         Traceback (most recent call last)",
      "\u001b[0;32m<ipython-input-13-2e3c67638680>\u001b[0m in \u001b[0;36m<module>\u001b[0;34m()\u001b[0m\n\u001b[1;32m      5\u001b[0m                             \u001b[0msetup\u001b[0m \u001b[0;34m=\u001b[0m \u001b[0;34m'print(\".\", end = \"\"); from __main__ import do_anns, doc'\u001b[0m\u001b[0;34m,\u001b[0m \u001b[0;31m#ugh...note the import\u001b[0m\u001b[0;34m\u001b[0m\u001b[0m\n\u001b[1;32m      6\u001b[0m                             \u001b[0mrepeat\u001b[0m \u001b[0;34m=\u001b[0m \u001b[0;36m3\u001b[0m\u001b[0;34m,\u001b[0m\u001b[0;34m\u001b[0m\u001b[0m\n\u001b[0;32m----> 7\u001b[0;31m                             number = 10) ##simulates a 10 note run\n\u001b[0m\u001b[1;32m      8\u001b[0m     \u001b[0mprint\u001b[0m\u001b[0;34m(\u001b[0m\u001b[0;34m\"Time(s) for rule set \"\u001b[0m\u001b[0;34m,\u001b[0m\u001b[0mrule_set\u001b[0m\u001b[0;34m,\u001b[0m\u001b[0;34m\"for 10 notes: \"\u001b[0m\u001b[0;34m,\u001b[0m \u001b[0mruntime\u001b[0m\u001b[0;34m)\u001b[0m\u001b[0;34m\u001b[0m\u001b[0m\n\u001b[1;32m      9\u001b[0m \u001b[0;34m\u001b[0m\u001b[0m\n",
      "\u001b[0;32m/opt/conda/lib/python3.6/timeit.py\u001b[0m in \u001b[0;36mrepeat\u001b[0;34m(stmt, setup, timer, repeat, number, globals)\u001b[0m\n\u001b[1;32m    236\u001b[0m            repeat=default_repeat, number=default_number, globals=None):\n\u001b[1;32m    237\u001b[0m     \u001b[0;34m\"\"\"Convenience function to create Timer object and call repeat method.\"\"\"\u001b[0m\u001b[0;34m\u001b[0m\u001b[0m\n\u001b[0;32m--> 238\u001b[0;31m     \u001b[0;32mreturn\u001b[0m \u001b[0mTimer\u001b[0m\u001b[0;34m(\u001b[0m\u001b[0mstmt\u001b[0m\u001b[0;34m,\u001b[0m \u001b[0msetup\u001b[0m\u001b[0;34m,\u001b[0m \u001b[0mtimer\u001b[0m\u001b[0;34m,\u001b[0m \u001b[0mglobals\u001b[0m\u001b[0;34m)\u001b[0m\u001b[0;34m.\u001b[0m\u001b[0mrepeat\u001b[0m\u001b[0;34m(\u001b[0m\u001b[0mrepeat\u001b[0m\u001b[0;34m,\u001b[0m \u001b[0mnumber\u001b[0m\u001b[0;34m)\u001b[0m\u001b[0;34m\u001b[0m\u001b[0m\n\u001b[0m\u001b[1;32m    239\u001b[0m \u001b[0;34m\u001b[0m\u001b[0m\n\u001b[1;32m    240\u001b[0m \u001b[0;32mdef\u001b[0m \u001b[0mmain\u001b[0m\u001b[0;34m(\u001b[0m\u001b[0margs\u001b[0m\u001b[0;34m=\u001b[0m\u001b[0;32mNone\u001b[0m\u001b[0;34m,\u001b[0m \u001b[0;34m*\u001b[0m\u001b[0;34m,\u001b[0m \u001b[0m_wrap_timer\u001b[0m\u001b[0;34m=\u001b[0m\u001b[0;32mNone\u001b[0m\u001b[0;34m)\u001b[0m\u001b[0;34m:\u001b[0m\u001b[0;34m\u001b[0m\u001b[0m\n",
      "\u001b[0;32m/opt/conda/lib/python3.6/timeit.py\u001b[0m in \u001b[0;36mrepeat\u001b[0;34m(self, repeat, number)\u001b[0m\n\u001b[1;32m    204\u001b[0m         \u001b[0mr\u001b[0m \u001b[0;34m=\u001b[0m \u001b[0;34m[\u001b[0m\u001b[0;34m]\u001b[0m\u001b[0;34m\u001b[0m\u001b[0m\n\u001b[1;32m    205\u001b[0m         \u001b[0;32mfor\u001b[0m \u001b[0mi\u001b[0m \u001b[0;32min\u001b[0m \u001b[0mrange\u001b[0m\u001b[0;34m(\u001b[0m\u001b[0mrepeat\u001b[0m\u001b[0;34m)\u001b[0m\u001b[0;34m:\u001b[0m\u001b[0;34m\u001b[0m\u001b[0m\n\u001b[0;32m--> 206\u001b[0;31m             \u001b[0mt\u001b[0m \u001b[0;34m=\u001b[0m \u001b[0mself\u001b[0m\u001b[0;34m.\u001b[0m\u001b[0mtimeit\u001b[0m\u001b[0;34m(\u001b[0m\u001b[0mnumber\u001b[0m\u001b[0;34m)\u001b[0m\u001b[0;34m\u001b[0m\u001b[0m\n\u001b[0m\u001b[1;32m    207\u001b[0m             \u001b[0mr\u001b[0m\u001b[0;34m.\u001b[0m\u001b[0mappend\u001b[0m\u001b[0;34m(\u001b[0m\u001b[0mt\u001b[0m\u001b[0;34m)\u001b[0m\u001b[0;34m\u001b[0m\u001b[0m\n\u001b[1;32m    208\u001b[0m         \u001b[0;32mreturn\u001b[0m \u001b[0mr\u001b[0m\u001b[0;34m\u001b[0m\u001b[0m\n",
      "\u001b[0;32m/opt/conda/lib/python3.6/timeit.py\u001b[0m in \u001b[0;36mtimeit\u001b[0;34m(self, number)\u001b[0m\n\u001b[1;32m    176\u001b[0m         \u001b[0mgc\u001b[0m\u001b[0;34m.\u001b[0m\u001b[0mdisable\u001b[0m\u001b[0;34m(\u001b[0m\u001b[0;34m)\u001b[0m\u001b[0;34m\u001b[0m\u001b[0m\n\u001b[1;32m    177\u001b[0m         \u001b[0;32mtry\u001b[0m\u001b[0;34m:\u001b[0m\u001b[0;34m\u001b[0m\u001b[0m\n\u001b[0;32m--> 178\u001b[0;31m             \u001b[0mtiming\u001b[0m \u001b[0;34m=\u001b[0m \u001b[0mself\u001b[0m\u001b[0;34m.\u001b[0m\u001b[0minner\u001b[0m\u001b[0;34m(\u001b[0m\u001b[0mit\u001b[0m\u001b[0;34m,\u001b[0m \u001b[0mself\u001b[0m\u001b[0;34m.\u001b[0m\u001b[0mtimer\u001b[0m\u001b[0;34m)\u001b[0m\u001b[0;34m\u001b[0m\u001b[0m\n\u001b[0m\u001b[1;32m    179\u001b[0m         \u001b[0;32mfinally\u001b[0m\u001b[0;34m:\u001b[0m\u001b[0;34m\u001b[0m\u001b[0m\n\u001b[1;32m    180\u001b[0m             \u001b[0;32mif\u001b[0m \u001b[0mgcold\u001b[0m\u001b[0;34m:\u001b[0m\u001b[0;34m\u001b[0m\u001b[0m\n",
      "\u001b[0;32m/opt/conda/lib/python3.6/timeit.py\u001b[0m in \u001b[0;36minner\u001b[0;34m(_it, _timer)\u001b[0m\n",
      "\u001b[0;32m<ipython-input-10-88330ff25039>\u001b[0m in \u001b[0;36mdo_anns\u001b[0;34m(document)\u001b[0m\n\u001b[1;32m      2\u001b[0m     \u001b[0;34m'''A test function that wrap a document segmenter and context asserter so we can time the runtime of both.'''\u001b[0m\u001b[0;34m\u001b[0m\u001b[0m\n\u001b[1;32m      3\u001b[0m     \u001b[0;31m#segment the document's sentences\u001b[0m\u001b[0;34m\u001b[0m\u001b[0;34m\u001b[0m\u001b[0m\n\u001b[0;32m----> 4\u001b[0;31m     \u001b[0msentences\u001b[0m\u001b[0;34m=\u001b[0m\u001b[0msentence_segmenter\u001b[0m\u001b[0;34m.\u001b[0m\u001b[0msegToSentenceSpans\u001b[0m\u001b[0;34m(\u001b[0m\u001b[0mdoc\u001b[0m\u001b[0;34m.\u001b[0m\u001b[0mtext\u001b[0m\u001b[0;34m)\u001b[0m\u001b[0;34m\u001b[0m\u001b[0m\n\u001b[0m\u001b[1;32m      5\u001b[0m     \u001b[0mi\u001b[0m\u001b[0;34m=\u001b[0m\u001b[0;36m0\u001b[0m\u001b[0;34m\u001b[0m\u001b[0m\n\u001b[1;32m      6\u001b[0m     \u001b[0;32mfor\u001b[0m \u001b[0msentence\u001b[0m \u001b[0;32min\u001b[0m \u001b[0msentences\u001b[0m\u001b[0;34m:\u001b[0m\u001b[0;34m\u001b[0m\u001b[0m\n",
      "\u001b[0;32m/opt/conda/lib/python3.6/site-packages/PyRuSH/RuSH.py\u001b[0m in \u001b[0;36msegToSentenceSpans\u001b[0;34m(self, text)\u001b[0m\n\u001b[1;32m     78\u001b[0m     \u001b[0;32mdef\u001b[0m \u001b[0msegToSentenceSpans\u001b[0m\u001b[0;34m(\u001b[0m\u001b[0mself\u001b[0m\u001b[0;34m,\u001b[0m \u001b[0mtext\u001b[0m\u001b[0;34m)\u001b[0m\u001b[0;34m:\u001b[0m\u001b[0;34m\u001b[0m\u001b[0m\n\u001b[1;32m     79\u001b[0m         \u001b[0moutput\u001b[0m \u001b[0;34m=\u001b[0m \u001b[0;34m[\u001b[0m\u001b[0;34m]\u001b[0m\u001b[0;34m\u001b[0m\u001b[0m\n\u001b[0;32m---> 80\u001b[0;31m         \u001b[0mresult\u001b[0m \u001b[0;34m=\u001b[0m \u001b[0mself\u001b[0m\u001b[0;34m.\u001b[0m\u001b[0mfastner\u001b[0m\u001b[0;34m.\u001b[0m\u001b[0mprocessString\u001b[0m\u001b[0;34m(\u001b[0m\u001b[0mtext\u001b[0m\u001b[0;34m)\u001b[0m\u001b[0;34m\u001b[0m\u001b[0m\n\u001b[0m\u001b[1;32m     81\u001b[0m \u001b[0;34m\u001b[0m\u001b[0m\n\u001b[1;32m     82\u001b[0m         \u001b[0;31m# log important message for debugging use\u001b[0m\u001b[0;34m\u001b[0m\u001b[0;34m\u001b[0m\u001b[0m\n",
      "\u001b[0;32m/opt/conda/lib/python3.6/site-packages/PyFastNER/FastCNER.py\u001b[0m in \u001b[0;36mprocessString\u001b[0;34m(self, text, offset)\u001b[0m\n\u001b[1;32m    170\u001b[0m         \u001b[0;32mfor\u001b[0m \u001b[0mi\u001b[0m \u001b[0;32min\u001b[0m \u001b[0mrange\u001b[0m\u001b[0;34m(\u001b[0m\u001b[0;36m0\u001b[0m\u001b[0;34m,\u001b[0m \u001b[0mlen\u001b[0m\u001b[0;34m(\u001b[0m\u001b[0mtext\u001b[0m\u001b[0;34m)\u001b[0m\u001b[0;34m)\u001b[0m\u001b[0;34m:\u001b[0m\u001b[0;34m\u001b[0m\u001b[0m\n\u001b[1;32m    171\u001b[0m             \u001b[0mpre_char\u001b[0m \u001b[0;34m=\u001b[0m \u001b[0mtext\u001b[0m\u001b[0;34m[\u001b[0m\u001b[0mi\u001b[0m \u001b[0;34m-\u001b[0m \u001b[0;36m1\u001b[0m\u001b[0;34m]\u001b[0m \u001b[0;32mif\u001b[0m \u001b[0mi\u001b[0m \u001b[0;34m>\u001b[0m \u001b[0;36m0\u001b[0m \u001b[0;32melse\u001b[0m \u001b[0;34m' '\u001b[0m\u001b[0;34m\u001b[0m\u001b[0m\n\u001b[0;32m--> 172\u001b[0;31m             \u001b[0mself\u001b[0m\u001b[0;34m.\u001b[0m\u001b[0mprocessRules\u001b[0m\u001b[0;34m(\u001b[0m\u001b[0mtext\u001b[0m\u001b[0;34m,\u001b[0m \u001b[0mself\u001b[0m\u001b[0;34m.\u001b[0m\u001b[0mrule_map\u001b[0m\u001b[0;34m,\u001b[0m \u001b[0mi\u001b[0m\u001b[0;34m,\u001b[0m \u001b[0;36m0\u001b[0m\u001b[0;34m,\u001b[0m \u001b[0mi\u001b[0m\u001b[0;34m,\u001b[0m \u001b[0mmatches\u001b[0m\u001b[0;34m,\u001b[0m \u001b[0mpre_char\u001b[0m\u001b[0;34m,\u001b[0m \u001b[0;32mFalse\u001b[0m\u001b[0;34m,\u001b[0m \u001b[0;34m' '\u001b[0m\u001b[0;34m)\u001b[0m\u001b[0;34m\u001b[0m\u001b[0m\n\u001b[0m\u001b[1;32m    173\u001b[0m         \u001b[0mself\u001b[0m\u001b[0;34m.\u001b[0m\u001b[0mremovePseudo\u001b[0m\u001b[0;34m(\u001b[0m\u001b[0mmatches\u001b[0m\u001b[0;34m)\u001b[0m\u001b[0;34m\u001b[0m\u001b[0m\n\u001b[1;32m    174\u001b[0m         \u001b[0;32mreturn\u001b[0m \u001b[0mmatches\u001b[0m\u001b[0;34m\u001b[0m\u001b[0m\n",
      "\u001b[0;32m/opt/conda/lib/python3.6/site-packages/PyFastNER/FastCNER.py\u001b[0m in \u001b[0;36mprocessRules\u001b[0;34m(self, text, rule_map, match_begin, match_end, current_position, matches, pre_char, wildcard_support, pre_key)\u001b[0m\n\u001b[1;32m    182\u001b[0m             \u001b[0;32mif\u001b[0m \u001b[0;34m'\\\\'\u001b[0m \u001b[0;32min\u001b[0m \u001b[0mrule_map\u001b[0m\u001b[0;34m:\u001b[0m\u001b[0;34m\u001b[0m\u001b[0m\n\u001b[1;32m    183\u001b[0m                 self.processWildCards(text, rule_map['\\\\'], match_begin, match_end, current_position, matches, pre_char,\n\u001b[0;32m--> 184\u001b[0;31m                                       True, '\\\\')\n\u001b[0m\u001b[1;32m    185\u001b[0m             \u001b[0;32mif\u001b[0m \u001b[0;34m'('\u001b[0m \u001b[0;32min\u001b[0m \u001b[0mrule_map\u001b[0m\u001b[0;34m:\u001b[0m\u001b[0;34m\u001b[0m\u001b[0m\n\u001b[1;32m    186\u001b[0m                 self.processRules(text, rule_map['('], current_position, match_end, current_position, matches, pre_char,\n",
      "\u001b[0;32m/opt/conda/lib/python3.6/site-packages/PyFastNER/FastCNER.py\u001b[0m in \u001b[0;36mprocessWildCards\u001b[0;34m(self, text, rule_map, match_begin, match_end, current_position, matches, pre_char, wildcard_support, pre_key)\u001b[0m\n\u001b[1;32m    245\u001b[0m         \u001b[0;32mfor\u001b[0m \u001b[0mrule_char\u001b[0m \u001b[0;32min\u001b[0m \u001b[0mrule_map\u001b[0m\u001b[0;34m.\u001b[0m\u001b[0mkeys\u001b[0m\u001b[0;34m(\u001b[0m\u001b[0;34m)\u001b[0m\u001b[0;34m:\u001b[0m\u001b[0;34m\u001b[0m\u001b[0m\n\u001b[1;32m    246\u001b[0m             \u001b[0;32mif\u001b[0m \u001b[0mrule_char\u001b[0m \u001b[0;32min\u001b[0m \u001b[0mself\u001b[0m\u001b[0;34m.\u001b[0m\u001b[0mwildcard_funcs\u001b[0m\u001b[0;34m:\u001b[0m\u001b[0;34m\u001b[0m\u001b[0m\n\u001b[0;32m--> 247\u001b[0;31m                 \u001b[0mself\u001b[0m\u001b[0;34m.\u001b[0m\u001b[0mwildcard_funcs\u001b[0m\u001b[0;34m[\u001b[0m\u001b[0mrule_char\u001b[0m\u001b[0;34m]\u001b[0m\u001b[0;34m(\u001b[0m\u001b[0mtext\u001b[0m\u001b[0;34m,\u001b[0m \u001b[0mrule_map\u001b[0m\u001b[0;34m,\u001b[0m \u001b[0mmatch_begin\u001b[0m\u001b[0;34m,\u001b[0m \u001b[0mmatch_end\u001b[0m\u001b[0;34m,\u001b[0m \u001b[0mcurrent_position\u001b[0m\u001b[0;34m,\u001b[0m \u001b[0mmatches\u001b[0m\u001b[0;34m,\u001b[0m \u001b[0mthis_char\u001b[0m\u001b[0;34m)\u001b[0m\u001b[0;34m\u001b[0m\u001b[0m\n\u001b[0m\u001b[1;32m    248\u001b[0m             \u001b[0;32melse\u001b[0m\u001b[0;34m:\u001b[0m\u001b[0;34m\u001b[0m\u001b[0m\n\u001b[1;32m    249\u001b[0m                 \u001b[0mprint\u001b[0m\u001b[0;34m(\u001b[0m\u001b[0;34m'\"\\\\'\u001b[0m\u001b[0;34m+\u001b[0m\u001b[0mrule_char\u001b[0m\u001b[0;34m+\u001b[0m\u001b[0;34m'\" is not a eligible syntax.'\u001b[0m\u001b[0;34m)\u001b[0m\u001b[0;34m\u001b[0m\u001b[0m\n",
      "\u001b[0;32m/opt/conda/lib/python3.6/site-packages/PyFastNER/WildCardFunctions.py\u001b[0m in \u001b[0;36mprocessWildCard_d\u001b[0;34m(self, text, rule_map, match_begin, match_end, current_position, matches, this_char)\u001b[0m\n\u001b[1;32m     72\u001b[0m         \u001b[0;32mif\u001b[0m \u001b[0mthis_char\u001b[0m\u001b[0;34m.\u001b[0m\u001b[0misdigit\u001b[0m\u001b[0;34m(\u001b[0m\u001b[0;34m)\u001b[0m\u001b[0;34m:\u001b[0m\u001b[0;34m\u001b[0m\u001b[0m\n\u001b[1;32m     73\u001b[0m             self.processRules(text, rule_map['d'], match_begin, match_end, current_position + 1, matches,\n\u001b[0;32m---> 74\u001b[0;31m                               this_char, True, 'd')\n\u001b[0m\u001b[1;32m     75\u001b[0m         \u001b[0;32mpass\u001b[0m\u001b[0;34m\u001b[0m\u001b[0m\n\u001b[1;32m     76\u001b[0m \u001b[0;34m\u001b[0m\u001b[0m\n",
      "\u001b[0;32m/opt/conda/lib/python3.6/site-packages/PyFastNER/FastCNER.py\u001b[0m in \u001b[0;36mprocessRules\u001b[0;34m(self, text, rule_map, match_begin, match_end, current_position, matches, pre_char, wildcard_support, pre_key)\u001b[0m\n\u001b[1;32m    188\u001b[0m             \u001b[0;32mif\u001b[0m \u001b[0;34m')'\u001b[0m \u001b[0;32min\u001b[0m \u001b[0mrule_map\u001b[0m\u001b[0;34m:\u001b[0m\u001b[0;34m\u001b[0m\u001b[0m\n\u001b[1;32m    189\u001b[0m                 self.processRules(text, rule_map[')'], match_begin, current_position, current_position, matches,\n\u001b[0;32m--> 190\u001b[0;31m                                   pre_char, False, ')')\n\u001b[0m\u001b[1;32m    191\u001b[0m \u001b[0;34m\u001b[0m\u001b[0m\n\u001b[1;32m    192\u001b[0m             \u001b[0;32mif\u001b[0m \u001b[0mFastCNER\u001b[0m\u001b[0;34m.\u001b[0m\u001b[0mEND\u001b[0m \u001b[0;32min\u001b[0m \u001b[0mrule_map\u001b[0m\u001b[0;34m:\u001b[0m\u001b[0;34m\u001b[0m\u001b[0m\n",
      "\u001b[0;32m/opt/conda/lib/python3.6/site-packages/PyFastNER/FastCNER.py\u001b[0m in \u001b[0;36mprocessRules\u001b[0;34m(self, text, rule_map, match_begin, match_end, current_position, matches, pre_char, wildcard_support, pre_key)\u001b[0m\n\u001b[1;32m    182\u001b[0m             \u001b[0;32mif\u001b[0m \u001b[0;34m'\\\\'\u001b[0m \u001b[0;32min\u001b[0m \u001b[0mrule_map\u001b[0m\u001b[0;34m:\u001b[0m\u001b[0;34m\u001b[0m\u001b[0m\n\u001b[1;32m    183\u001b[0m                 self.processWildCards(text, rule_map['\\\\'], match_begin, match_end, current_position, matches, pre_char,\n\u001b[0;32m--> 184\u001b[0;31m                                       True, '\\\\')\n\u001b[0m\u001b[1;32m    185\u001b[0m             \u001b[0;32mif\u001b[0m \u001b[0;34m'('\u001b[0m \u001b[0;32min\u001b[0m \u001b[0mrule_map\u001b[0m\u001b[0;34m:\u001b[0m\u001b[0;34m\u001b[0m\u001b[0m\n\u001b[1;32m    186\u001b[0m                 self.processRules(text, rule_map['('], current_position, match_end, current_position, matches, pre_char,\n",
      "\u001b[0;32m/opt/conda/lib/python3.6/site-packages/PyFastNER/FastCNER.py\u001b[0m in \u001b[0;36mprocessWildCards\u001b[0;34m(self, text, rule_map, match_begin, match_end, current_position, matches, pre_char, wildcard_support, pre_key)\u001b[0m\n\u001b[1;32m    245\u001b[0m         \u001b[0;32mfor\u001b[0m \u001b[0mrule_char\u001b[0m \u001b[0;32min\u001b[0m \u001b[0mrule_map\u001b[0m\u001b[0;34m.\u001b[0m\u001b[0mkeys\u001b[0m\u001b[0;34m(\u001b[0m\u001b[0;34m)\u001b[0m\u001b[0;34m:\u001b[0m\u001b[0;34m\u001b[0m\u001b[0m\n\u001b[1;32m    246\u001b[0m             \u001b[0;32mif\u001b[0m \u001b[0mrule_char\u001b[0m \u001b[0;32min\u001b[0m \u001b[0mself\u001b[0m\u001b[0;34m.\u001b[0m\u001b[0mwildcard_funcs\u001b[0m\u001b[0;34m:\u001b[0m\u001b[0;34m\u001b[0m\u001b[0m\n\u001b[0;32m--> 247\u001b[0;31m                 \u001b[0mself\u001b[0m\u001b[0;34m.\u001b[0m\u001b[0mwildcard_funcs\u001b[0m\u001b[0;34m[\u001b[0m\u001b[0mrule_char\u001b[0m\u001b[0;34m]\u001b[0m\u001b[0;34m(\u001b[0m\u001b[0mtext\u001b[0m\u001b[0;34m,\u001b[0m \u001b[0mrule_map\u001b[0m\u001b[0;34m,\u001b[0m \u001b[0mmatch_begin\u001b[0m\u001b[0;34m,\u001b[0m \u001b[0mmatch_end\u001b[0m\u001b[0;34m,\u001b[0m \u001b[0mcurrent_position\u001b[0m\u001b[0;34m,\u001b[0m \u001b[0mmatches\u001b[0m\u001b[0;34m,\u001b[0m \u001b[0mthis_char\u001b[0m\u001b[0;34m)\u001b[0m\u001b[0;34m\u001b[0m\u001b[0m\n\u001b[0m\u001b[1;32m    248\u001b[0m             \u001b[0;32melse\u001b[0m\u001b[0;34m:\u001b[0m\u001b[0;34m\u001b[0m\u001b[0m\n\u001b[1;32m    249\u001b[0m                 \u001b[0mprint\u001b[0m\u001b[0;34m(\u001b[0m\u001b[0;34m'\"\\\\'\u001b[0m\u001b[0;34m+\u001b[0m\u001b[0mrule_char\u001b[0m\u001b[0;34m+\u001b[0m\u001b[0;34m'\" is not a eligible syntax.'\u001b[0m\u001b[0;34m)\u001b[0m\u001b[0;34m\u001b[0m\u001b[0m\n",
      "\u001b[0;32m/opt/conda/lib/python3.6/site-packages/PyFastNER/WildCardFunctions.py\u001b[0m in \u001b[0;36mprocessWildCard_n\u001b[0;34m(self, text, rule_map, match_begin, match_end, current_position, matches, this_char)\u001b[0m\n\u001b[1;32m     51\u001b[0m         \u001b[0;32mif\u001b[0m \u001b[0mthis_char\u001b[0m \u001b[0;34m==\u001b[0m \u001b[0;34m'\\n'\u001b[0m \u001b[0;32mor\u001b[0m \u001b[0mthis_char\u001b[0m \u001b[0;34m==\u001b[0m \u001b[0;34m'\\r'\u001b[0m\u001b[0;34m:\u001b[0m\u001b[0;34m\u001b[0m\u001b[0m\n\u001b[1;32m     52\u001b[0m             self.processRules(text, rule_map['n'], match_begin, match_end, current_position + 1, matches,\n\u001b[0;32m---> 53\u001b[0;31m                               this_char, True, 'n')\n\u001b[0m\u001b[1;32m     54\u001b[0m         \u001b[0;32mpass\u001b[0m\u001b[0;34m\u001b[0m\u001b[0m\n\u001b[1;32m     55\u001b[0m \u001b[0;34m\u001b[0m\u001b[0m\n",
      "\u001b[0;32m/opt/conda/lib/python3.6/site-packages/PyFastNER/FastCNER.py\u001b[0m in \u001b[0;36mprocessRules\u001b[0;34m(self, text, rule_map, match_begin, match_end, current_position, matches, pre_char, wildcard_support, pre_key)\u001b[0m\n\u001b[1;32m    200\u001b[0m                                   False, '+')\n\u001b[1;32m    201\u001b[0m                 self.processReplication(text, rule_map['+'], match_begin, match_end, current_position, matches,\n\u001b[0;32m--> 202\u001b[0;31m                                         this_char, wildcard_support, pre_key)\n\u001b[0m\u001b[1;32m    203\u001b[0m         \u001b[0;32melif\u001b[0m \u001b[0mcurrent_position\u001b[0m \u001b[0;34m==\u001b[0m \u001b[0mlength\u001b[0m \u001b[0;32mand\u001b[0m \u001b[0mFastCNER\u001b[0m\u001b[0;34m.\u001b[0m\u001b[0mEND\u001b[0m \u001b[0;32min\u001b[0m \u001b[0mrule_map\u001b[0m\u001b[0;34m:\u001b[0m\u001b[0;34m\u001b[0m\u001b[0m\n\u001b[1;32m    204\u001b[0m             \u001b[0;32mif\u001b[0m \u001b[0mmatch_end\u001b[0m \u001b[0;34m==\u001b[0m \u001b[0;36m0\u001b[0m\u001b[0;34m:\u001b[0m\u001b[0;34m\u001b[0m\u001b[0m\n",
      "\u001b[0;32m/opt/conda/lib/python3.6/site-packages/PyFastNER/FastCNER.py\u001b[0m in \u001b[0;36mprocessReplication\u001b[0;34m(self, text, rule_map, match_begin, match_end, current_position, matches, pre_char, wildcard_support, pre_key)\u001b[0m\n\u001b[1;32m    230\u001b[0m             \u001b[0;32mif\u001b[0m \u001b[0mpre_key\u001b[0m \u001b[0;32min\u001b[0m \u001b[0mself\u001b[0m\u001b[0;34m.\u001b[0m\u001b[0mreplication_funcs\u001b[0m\u001b[0;34m:\u001b[0m\u001b[0;34m\u001b[0m\u001b[0m\n\u001b[1;32m    231\u001b[0m                 self.replication_funcs[pre_key](text, rule_map, match_begin, match_end, current_position, matches,\n\u001b[0;32m--> 232\u001b[0;31m                                             this_char, pre_char)\n\u001b[0m\u001b[1;32m    233\u001b[0m             \u001b[0;32melse\u001b[0m\u001b[0;34m:\u001b[0m\u001b[0;34m\u001b[0m\u001b[0m\n\u001b[1;32m    234\u001b[0m                 \u001b[0mprint\u001b[0m\u001b[0;34m(\u001b[0m\u001b[0;34m'\"\\\\'\u001b[0m \u001b[0;34m+\u001b[0m \u001b[0mpre_key\u001b[0m \u001b[0;34m+\u001b[0m \u001b[0;34m'+\" is not a eligible syntax.'\u001b[0m\u001b[0;34m)\u001b[0m\u001b[0;34m\u001b[0m\u001b[0m\n",
      "\u001b[0;32m/opt/conda/lib/python3.6/site-packages/PyFastNER/ReplicationFunctionsLambda.py\u001b[0m in \u001b[0;36mprocessReplication_n\u001b[0;34m(self, text, rule_map, match_begin, match_end, current_position, matches, this_char, previous_char)\u001b[0m\n\u001b[1;32m     60\u001b[0m                 \u001b[0mevalFunc\u001b[0m \u001b[0;34m=\u001b[0m \u001b[0;32mlambda\u001b[0m \u001b[0mchar\u001b[0m\u001b[0;34m:\u001b[0m \u001b[0;34m(\u001b[0m\u001b[0mchar\u001b[0m \u001b[0;34m==\u001b[0m \u001b[0;34m'\\n'\u001b[0m \u001b[0;32mor\u001b[0m \u001b[0mchar\u001b[0m \u001b[0;34m==\u001b[0m \u001b[0;34m'\\r'\u001b[0m\u001b[0;34m)\u001b[0m\u001b[0;34m\u001b[0m\u001b[0m\n\u001b[1;32m     61\u001b[0m \t\tprocessReplicationCommon(evalFunc, self.processRules, text, rule_map, match_begin, match_end, current_position, matches,\n\u001b[0;32m---> 62\u001b[0;31m \t\t\t\t\t\t\t\t this_char, previous_char)\n\u001b[0m\u001b[1;32m     63\u001b[0m                 \u001b[0;32mpass\u001b[0m\u001b[0;34m\u001b[0m\u001b[0m\n\u001b[1;32m     64\u001b[0m \u001b[0;34m\u001b[0m\u001b[0m\n",
      "\u001b[0;32m/opt/conda/lib/python3.6/site-packages/PyFastNER/ReplicationFunctionsLambda.py\u001b[0m in \u001b[0;36mprocessReplicationCommon\u001b[0;34m(evalFunc, processRulesFunc, text, rule_map, match_begin, match_end, current_position, matches, this_char, previous_char)\u001b[0m\n\u001b[1;32m     25\u001b[0m                         \u001b[0;32mbreak\u001b[0m\u001b[0;34m\u001b[0m\u001b[0m\n\u001b[1;32m     26\u001b[0m                 \u001b[0mthis_char\u001b[0m \u001b[0;34m=\u001b[0m \u001b[0mtext\u001b[0m\u001b[0;34m[\u001b[0m\u001b[0mcurrent_position\u001b[0m\u001b[0;34m]\u001b[0m\u001b[0;34m\u001b[0m\u001b[0m\n\u001b[0;32m---> 27\u001b[0;31m         \u001b[0mprocessRulesFunc\u001b[0m\u001b[0;34m(\u001b[0m\u001b[0mtext\u001b[0m\u001b[0;34m,\u001b[0m \u001b[0mrule_map\u001b[0m\u001b[0;34m,\u001b[0m \u001b[0mmatch_begin\u001b[0m\u001b[0;34m,\u001b[0m \u001b[0mmatch_end\u001b[0m\u001b[0;34m,\u001b[0m \u001b[0mcurrent_position\u001b[0m\u001b[0;34m,\u001b[0m \u001b[0mmatches\u001b[0m\u001b[0;34m,\u001b[0m \u001b[0mprevious_char\u001b[0m\u001b[0;34m,\u001b[0m \u001b[0;32mFalse\u001b[0m\u001b[0;34m,\u001b[0m \u001b[0;34m'+'\u001b[0m\u001b[0;34m)\u001b[0m\u001b[0;34m\u001b[0m\u001b[0m\n\u001b[0m\u001b[1;32m     28\u001b[0m         \u001b[0;32mpass\u001b[0m\u001b[0;34m\u001b[0m\u001b[0m\n\u001b[1;32m     29\u001b[0m \u001b[0;34m\u001b[0m\u001b[0m\n",
      "\u001b[0;32m/opt/conda/lib/python3.6/site-packages/PyFastNER/FastCNER.py\u001b[0m in \u001b[0;36mprocessRules\u001b[0;34m(self, text, rule_map, match_begin, match_end, current_position, matches, pre_char, wildcard_support, pre_key)\u001b[0m\n\u001b[1;32m    182\u001b[0m             \u001b[0;32mif\u001b[0m \u001b[0;34m'\\\\'\u001b[0m \u001b[0;32min\u001b[0m \u001b[0mrule_map\u001b[0m\u001b[0;34m:\u001b[0m\u001b[0;34m\u001b[0m\u001b[0m\n\u001b[1;32m    183\u001b[0m                 self.processWildCards(text, rule_map['\\\\'], match_begin, match_end, current_position, matches, pre_char,\n\u001b[0;32m--> 184\u001b[0;31m                                       True, '\\\\')\n\u001b[0m\u001b[1;32m    185\u001b[0m             \u001b[0;32mif\u001b[0m \u001b[0;34m'('\u001b[0m \u001b[0;32min\u001b[0m \u001b[0mrule_map\u001b[0m\u001b[0;34m:\u001b[0m\u001b[0;34m\u001b[0m\u001b[0m\n\u001b[1;32m    186\u001b[0m                 self.processRules(text, rule_map['('], current_position, match_end, current_position, matches, pre_char,\n",
      "\u001b[0;32m/opt/conda/lib/python3.6/site-packages/PyFastNER/FastCNER.py\u001b[0m in \u001b[0;36mprocessWildCards\u001b[0;34m(self, text, rule_map, match_begin, match_end, current_position, matches, pre_char, wildcard_support, pre_key)\u001b[0m\n\u001b[1;32m    245\u001b[0m         \u001b[0;32mfor\u001b[0m \u001b[0mrule_char\u001b[0m \u001b[0;32min\u001b[0m \u001b[0mrule_map\u001b[0m\u001b[0;34m.\u001b[0m\u001b[0mkeys\u001b[0m\u001b[0;34m(\u001b[0m\u001b[0;34m)\u001b[0m\u001b[0;34m:\u001b[0m\u001b[0;34m\u001b[0m\u001b[0m\n\u001b[1;32m    246\u001b[0m             \u001b[0;32mif\u001b[0m \u001b[0mrule_char\u001b[0m \u001b[0;32min\u001b[0m \u001b[0mself\u001b[0m\u001b[0;34m.\u001b[0m\u001b[0mwildcard_funcs\u001b[0m\u001b[0;34m:\u001b[0m\u001b[0;34m\u001b[0m\u001b[0m\n\u001b[0;32m--> 247\u001b[0;31m                 \u001b[0mself\u001b[0m\u001b[0;34m.\u001b[0m\u001b[0mwildcard_funcs\u001b[0m\u001b[0;34m[\u001b[0m\u001b[0mrule_char\u001b[0m\u001b[0;34m]\u001b[0m\u001b[0;34m(\u001b[0m\u001b[0mtext\u001b[0m\u001b[0;34m,\u001b[0m \u001b[0mrule_map\u001b[0m\u001b[0;34m,\u001b[0m \u001b[0mmatch_begin\u001b[0m\u001b[0;34m,\u001b[0m \u001b[0mmatch_end\u001b[0m\u001b[0;34m,\u001b[0m \u001b[0mcurrent_position\u001b[0m\u001b[0;34m,\u001b[0m \u001b[0mmatches\u001b[0m\u001b[0;34m,\u001b[0m \u001b[0mthis_char\u001b[0m\u001b[0;34m)\u001b[0m\u001b[0;34m\u001b[0m\u001b[0m\n\u001b[0m\u001b[1;32m    248\u001b[0m             \u001b[0;32melse\u001b[0m\u001b[0;34m:\u001b[0m\u001b[0;34m\u001b[0m\u001b[0m\n\u001b[1;32m    249\u001b[0m                 \u001b[0mprint\u001b[0m\u001b[0;34m(\u001b[0m\u001b[0;34m'\"\\\\'\u001b[0m\u001b[0;34m+\u001b[0m\u001b[0mrule_char\u001b[0m\u001b[0;34m+\u001b[0m\u001b[0;34m'\" is not a eligible syntax.'\u001b[0m\u001b[0;34m)\u001b[0m\u001b[0;34m\u001b[0m\u001b[0m\n",
      "\u001b[0;32m/opt/conda/lib/python3.6/site-packages/PyFastNER/WildCardFunctions.py\u001b[0m in \u001b[0;36mprocessWildCard_C\u001b[0;34m(self, text, rule_map, match_begin, match_end, current_position, matches, this_char)\u001b[0m\n\u001b[1;32m     79\u001b[0m         \u001b[0;32mif\u001b[0m \u001b[0mthis_char\u001b[0m\u001b[0;34m.\u001b[0m\u001b[0misupper\u001b[0m\u001b[0;34m(\u001b[0m\u001b[0;34m)\u001b[0m\u001b[0;34m:\u001b[0m\u001b[0;34m\u001b[0m\u001b[0m\n\u001b[1;32m     80\u001b[0m             self.processRules(text, rule_map['C'], match_begin, match_end, current_position + 1, matches,\n\u001b[0;32m---> 81\u001b[0;31m                               this_char, True, 'C')\n\u001b[0m\u001b[1;32m     82\u001b[0m         \u001b[0;32mpass\u001b[0m\u001b[0;34m\u001b[0m\u001b[0m\n\u001b[1;32m     83\u001b[0m \u001b[0;34m\u001b[0m\u001b[0m\n",
      "\u001b[0;32m/opt/conda/lib/python3.6/site-packages/PyFastNER/FastCNER.py\u001b[0m in \u001b[0;36mprocessRules\u001b[0;34m(self, text, rule_map, match_begin, match_end, current_position, matches, pre_char, wildcard_support, pre_key)\u001b[0m\n\u001b[1;32m    182\u001b[0m             \u001b[0;32mif\u001b[0m \u001b[0;34m'\\\\'\u001b[0m \u001b[0;32min\u001b[0m \u001b[0mrule_map\u001b[0m\u001b[0;34m:\u001b[0m\u001b[0;34m\u001b[0m\u001b[0m\n\u001b[1;32m    183\u001b[0m                 self.processWildCards(text, rule_map['\\\\'], match_begin, match_end, current_position, matches, pre_char,\n\u001b[0;32m--> 184\u001b[0;31m                                       True, '\\\\')\n\u001b[0m\u001b[1;32m    185\u001b[0m             \u001b[0;32mif\u001b[0m \u001b[0;34m'('\u001b[0m \u001b[0;32min\u001b[0m \u001b[0mrule_map\u001b[0m\u001b[0;34m:\u001b[0m\u001b[0;34m\u001b[0m\u001b[0m\n\u001b[1;32m    186\u001b[0m                 self.processRules(text, rule_map['('], current_position, match_end, current_position, matches, pre_char,\n",
      "\u001b[0;32m/opt/conda/lib/python3.6/site-packages/PyFastNER/FastCNER.py\u001b[0m in \u001b[0;36mprocessWildCards\u001b[0;34m(self, text, rule_map, match_begin, match_end, current_position, matches, pre_char, wildcard_support, pre_key)\u001b[0m\n\u001b[1;32m    245\u001b[0m         \u001b[0;32mfor\u001b[0m \u001b[0mrule_char\u001b[0m \u001b[0;32min\u001b[0m \u001b[0mrule_map\u001b[0m\u001b[0;34m.\u001b[0m\u001b[0mkeys\u001b[0m\u001b[0;34m(\u001b[0m\u001b[0;34m)\u001b[0m\u001b[0;34m:\u001b[0m\u001b[0;34m\u001b[0m\u001b[0m\n\u001b[1;32m    246\u001b[0m             \u001b[0;32mif\u001b[0m \u001b[0mrule_char\u001b[0m \u001b[0;32min\u001b[0m \u001b[0mself\u001b[0m\u001b[0;34m.\u001b[0m\u001b[0mwildcard_funcs\u001b[0m\u001b[0;34m:\u001b[0m\u001b[0;34m\u001b[0m\u001b[0m\n\u001b[0;32m--> 247\u001b[0;31m                 \u001b[0mself\u001b[0m\u001b[0;34m.\u001b[0m\u001b[0mwildcard_funcs\u001b[0m\u001b[0;34m[\u001b[0m\u001b[0mrule_char\u001b[0m\u001b[0;34m]\u001b[0m\u001b[0;34m(\u001b[0m\u001b[0mtext\u001b[0m\u001b[0;34m,\u001b[0m \u001b[0mrule_map\u001b[0m\u001b[0;34m,\u001b[0m \u001b[0mmatch_begin\u001b[0m\u001b[0;34m,\u001b[0m \u001b[0mmatch_end\u001b[0m\u001b[0;34m,\u001b[0m \u001b[0mcurrent_position\u001b[0m\u001b[0;34m,\u001b[0m \u001b[0mmatches\u001b[0m\u001b[0;34m,\u001b[0m \u001b[0mthis_char\u001b[0m\u001b[0;34m)\u001b[0m\u001b[0;34m\u001b[0m\u001b[0m\n\u001b[0m\u001b[1;32m    248\u001b[0m             \u001b[0;32melse\u001b[0m\u001b[0;34m:\u001b[0m\u001b[0;34m\u001b[0m\u001b[0m\n\u001b[1;32m    249\u001b[0m                 \u001b[0mprint\u001b[0m\u001b[0;34m(\u001b[0m\u001b[0;34m'\"\\\\'\u001b[0m\u001b[0;34m+\u001b[0m\u001b[0mrule_char\u001b[0m\u001b[0;34m+\u001b[0m\u001b[0;34m'\" is not a eligible syntax.'\u001b[0m\u001b[0;34m)\u001b[0m\u001b[0;34m\u001b[0m\u001b[0m\n",
      "\u001b[0;32m/opt/conda/lib/python3.6/site-packages/PyFastNER/WildCardFunctions.py\u001b[0m in \u001b[0;36mprocessWildCard_C\u001b[0;34m(self, text, rule_map, match_begin, match_end, current_position, matches, this_char)\u001b[0m\n\u001b[1;32m     79\u001b[0m         \u001b[0;32mif\u001b[0m \u001b[0mthis_char\u001b[0m\u001b[0;34m.\u001b[0m\u001b[0misupper\u001b[0m\u001b[0;34m(\u001b[0m\u001b[0;34m)\u001b[0m\u001b[0;34m:\u001b[0m\u001b[0;34m\u001b[0m\u001b[0m\n\u001b[1;32m     80\u001b[0m             self.processRules(text, rule_map['C'], match_begin, match_end, current_position + 1, matches,\n\u001b[0;32m---> 81\u001b[0;31m                               this_char, True, 'C')\n\u001b[0m\u001b[1;32m     82\u001b[0m         \u001b[0;32mpass\u001b[0m\u001b[0;34m\u001b[0m\u001b[0m\n\u001b[1;32m     83\u001b[0m \u001b[0;34m\u001b[0m\u001b[0m\n",
      "\u001b[0;32m/opt/conda/lib/python3.6/site-packages/PyFastNER/FastCNER.py\u001b[0m in \u001b[0;36mprocessRules\u001b[0;34m(self, text, rule_map, match_begin, match_end, current_position, matches, pre_char, wildcard_support, pre_key)\u001b[0m\n\u001b[1;32m    200\u001b[0m                                   False, '+')\n\u001b[1;32m    201\u001b[0m                 self.processReplication(text, rule_map['+'], match_begin, match_end, current_position, matches,\n\u001b[0;32m--> 202\u001b[0;31m                                         this_char, wildcard_support, pre_key)\n\u001b[0m\u001b[1;32m    203\u001b[0m         \u001b[0;32melif\u001b[0m \u001b[0mcurrent_position\u001b[0m \u001b[0;34m==\u001b[0m \u001b[0mlength\u001b[0m \u001b[0;32mand\u001b[0m \u001b[0mFastCNER\u001b[0m\u001b[0;34m.\u001b[0m\u001b[0mEND\u001b[0m \u001b[0;32min\u001b[0m \u001b[0mrule_map\u001b[0m\u001b[0;34m:\u001b[0m\u001b[0;34m\u001b[0m\u001b[0m\n\u001b[1;32m    204\u001b[0m             \u001b[0;32mif\u001b[0m \u001b[0mmatch_end\u001b[0m \u001b[0;34m==\u001b[0m \u001b[0;36m0\u001b[0m\u001b[0;34m:\u001b[0m\u001b[0;34m\u001b[0m\u001b[0m\n",
      "\u001b[0;32m/opt/conda/lib/python3.6/site-packages/PyFastNER/FastCNER.py\u001b[0m in \u001b[0;36mprocessReplication\u001b[0;34m(self, text, rule_map, match_begin, match_end, current_position, matches, pre_char, wildcard_support, pre_key)\u001b[0m\n\u001b[1;32m    230\u001b[0m             \u001b[0;32mif\u001b[0m \u001b[0mpre_key\u001b[0m \u001b[0;32min\u001b[0m \u001b[0mself\u001b[0m\u001b[0;34m.\u001b[0m\u001b[0mreplication_funcs\u001b[0m\u001b[0;34m:\u001b[0m\u001b[0;34m\u001b[0m\u001b[0m\n\u001b[1;32m    231\u001b[0m                 self.replication_funcs[pre_key](text, rule_map, match_begin, match_end, current_position, matches,\n\u001b[0;32m--> 232\u001b[0;31m                                             this_char, pre_char)\n\u001b[0m\u001b[1;32m    233\u001b[0m             \u001b[0;32melse\u001b[0m\u001b[0;34m:\u001b[0m\u001b[0;34m\u001b[0m\u001b[0m\n\u001b[1;32m    234\u001b[0m                 \u001b[0mprint\u001b[0m\u001b[0;34m(\u001b[0m\u001b[0;34m'\"\\\\'\u001b[0m \u001b[0;34m+\u001b[0m \u001b[0mpre_key\u001b[0m \u001b[0;34m+\u001b[0m \u001b[0;34m'+\" is not a eligible syntax.'\u001b[0m\u001b[0;34m)\u001b[0m\u001b[0;34m\u001b[0m\u001b[0m\n",
      "\u001b[0;32m/opt/conda/lib/python3.6/site-packages/PyFastNER/ReplicationFunctionsLambda.py\u001b[0m in \u001b[0;36mprocessReplication_C\u001b[0;34m(self, text, rule_map, match_begin, match_end, current_position, matches, this_char, previous_char)\u001b[0m\n\u001b[1;32m     74\u001b[0m                 \u001b[0mevalFunc\u001b[0m \u001b[0;34m=\u001b[0m \u001b[0;32mlambda\u001b[0m \u001b[0mchar\u001b[0m\u001b[0;34m:\u001b[0m \u001b[0mchar\u001b[0m\u001b[0;34m.\u001b[0m\u001b[0misupper\u001b[0m\u001b[0;34m(\u001b[0m\u001b[0;34m)\u001b[0m\u001b[0;34m\u001b[0m\u001b[0m\n\u001b[1;32m     75\u001b[0m \t\tprocessReplicationCommon(evalFunc, self.processRules, text, rule_map, match_begin, match_end, current_position, matches,\n\u001b[0;32m---> 76\u001b[0;31m \t\t\t\t\t\t\t\t this_char, previous_char)\n\u001b[0m\u001b[1;32m     77\u001b[0m                 \u001b[0;32mpass\u001b[0m\u001b[0;34m\u001b[0m\u001b[0m\n\u001b[1;32m     78\u001b[0m \u001b[0;34m\u001b[0m\u001b[0m\n",
      "\u001b[0;32m/opt/conda/lib/python3.6/site-packages/PyFastNER/ReplicationFunctionsLambda.py\u001b[0m in \u001b[0;36mprocessReplicationCommon\u001b[0;34m(evalFunc, processRulesFunc, text, rule_map, match_begin, match_end, current_position, matches, this_char, previous_char)\u001b[0m\n\u001b[1;32m     25\u001b[0m                         \u001b[0;32mbreak\u001b[0m\u001b[0;34m\u001b[0m\u001b[0m\n\u001b[1;32m     26\u001b[0m                 \u001b[0mthis_char\u001b[0m \u001b[0;34m=\u001b[0m \u001b[0mtext\u001b[0m\u001b[0;34m[\u001b[0m\u001b[0mcurrent_position\u001b[0m\u001b[0;34m]\u001b[0m\u001b[0;34m\u001b[0m\u001b[0m\n\u001b[0;32m---> 27\u001b[0;31m         \u001b[0mprocessRulesFunc\u001b[0m\u001b[0;34m(\u001b[0m\u001b[0mtext\u001b[0m\u001b[0;34m,\u001b[0m \u001b[0mrule_map\u001b[0m\u001b[0;34m,\u001b[0m \u001b[0mmatch_begin\u001b[0m\u001b[0;34m,\u001b[0m \u001b[0mmatch_end\u001b[0m\u001b[0;34m,\u001b[0m \u001b[0mcurrent_position\u001b[0m\u001b[0;34m,\u001b[0m \u001b[0mmatches\u001b[0m\u001b[0;34m,\u001b[0m \u001b[0mprevious_char\u001b[0m\u001b[0;34m,\u001b[0m \u001b[0;32mFalse\u001b[0m\u001b[0;34m,\u001b[0m \u001b[0;34m'+'\u001b[0m\u001b[0;34m)\u001b[0m\u001b[0;34m\u001b[0m\u001b[0m\n\u001b[0m\u001b[1;32m     28\u001b[0m         \u001b[0;32mpass\u001b[0m\u001b[0;34m\u001b[0m\u001b[0m\n\u001b[1;32m     29\u001b[0m \u001b[0;34m\u001b[0m\u001b[0m\n",
      "\u001b[0;32m/opt/conda/lib/python3.6/site-packages/PyFastNER/FastCNER.py\u001b[0m in \u001b[0;36mprocessRules\u001b[0;34m(self, text, rule_map, match_begin, match_end, current_position, matches, pre_char, wildcard_support, pre_key)\u001b[0m\n\u001b[1;32m    191\u001b[0m \u001b[0;34m\u001b[0m\u001b[0m\n\u001b[1;32m    192\u001b[0m             \u001b[0;32mif\u001b[0m \u001b[0mFastCNER\u001b[0m\u001b[0;34m.\u001b[0m\u001b[0mEND\u001b[0m \u001b[0;32min\u001b[0m \u001b[0mrule_map\u001b[0m\u001b[0;34m:\u001b[0m\u001b[0;34m\u001b[0m\u001b[0m\n\u001b[0;32m--> 193\u001b[0;31m                 \u001b[0mself\u001b[0m\u001b[0;34m.\u001b[0m\u001b[0maddDeterminants\u001b[0m\u001b[0;34m(\u001b[0m\u001b[0mtext\u001b[0m\u001b[0;34m,\u001b[0m \u001b[0mrule_map\u001b[0m\u001b[0;34m,\u001b[0m \u001b[0mmatches\u001b[0m\u001b[0;34m,\u001b[0m \u001b[0mmatch_begin\u001b[0m\u001b[0;34m,\u001b[0m \u001b[0mmatch_end\u001b[0m\u001b[0;34m,\u001b[0m \u001b[0mcurrent_position\u001b[0m\u001b[0;34m)\u001b[0m\u001b[0;34m\u001b[0m\u001b[0m\n\u001b[0m\u001b[1;32m    194\u001b[0m             \u001b[0;32mif\u001b[0m \u001b[0mthis_char\u001b[0m \u001b[0;32min\u001b[0m \u001b[0mrule_map\u001b[0m \u001b[0;32mand\u001b[0m \u001b[0mthis_char\u001b[0m \u001b[0;34m!=\u001b[0m \u001b[0;34m')'\u001b[0m \u001b[0;32mand\u001b[0m \u001b[0mthis_char\u001b[0m \u001b[0;34m!=\u001b[0m \u001b[0;34m'('\u001b[0m\u001b[0;34m:\u001b[0m\u001b[0;34m\u001b[0m\u001b[0m\n\u001b[1;32m    195\u001b[0m                 self.processRules(text, rule_map[this_char], match_begin, match_end, current_position + 1, matches,\n",
      "\u001b[0;32m/opt/conda/lib/python3.6/site-packages/PyFastNER/FastCNER.py\u001b[0m in \u001b[0;36maddDeterminants\u001b[0;34m(self, text, deter_rule, matches, match_begin, match_end, current_position)\u001b[0m\n\u001b[1;32m    263\u001b[0m                 \u001b[0mcurrent_spans_list\u001b[0m \u001b[0;34m=\u001b[0m \u001b[0mmatches\u001b[0m\u001b[0;34m[\u001b[0m\u001b[0mkey\u001b[0m\u001b[0;34m]\u001b[0m\u001b[0;34m\u001b[0m\u001b[0m\n\u001b[1;32m    264\u001b[0m                 \u001b[0moverlap_checker\u001b[0m \u001b[0;34m=\u001b[0m \u001b[0moverlap_checkers\u001b[0m\u001b[0;34m[\u001b[0m\u001b[0mkey\u001b[0m\u001b[0;34m]\u001b[0m\u001b[0;34m\u001b[0m\u001b[0m\n\u001b[0;32m--> 265\u001b[0;31m                 \u001b[0moverlapped_pos\u001b[0m \u001b[0;34m=\u001b[0m \u001b[0moverlap_checker\u001b[0m\u001b[0;34m.\u001b[0m\u001b[0msearch\u001b[0m\u001b[0;34m(\u001b[0m\u001b[0mcurrent_span\u001b[0m\u001b[0;34m.\u001b[0m\u001b[0mbegin\u001b[0m\u001b[0;34m,\u001b[0m \u001b[0mcurrent_span\u001b[0m\u001b[0;34m.\u001b[0m\u001b[0mend\u001b[0m\u001b[0;34m)\u001b[0m\u001b[0;34m\u001b[0m\u001b[0m\n\u001b[0m\u001b[1;32m    266\u001b[0m                 \u001b[0;32mif\u001b[0m \u001b[0mlen\u001b[0m\u001b[0;34m(\u001b[0m\u001b[0moverlapped_pos\u001b[0m\u001b[0;34m)\u001b[0m \u001b[0;34m>\u001b[0m \u001b[0;36m0\u001b[0m\u001b[0;34m:\u001b[0m\u001b[0;34m\u001b[0m\u001b[0m\n\u001b[1;32m    267\u001b[0m                     \u001b[0mpos\u001b[0m \u001b[0;34m=\u001b[0m \u001b[0moverlapped_pos\u001b[0m\u001b[0;34m.\u001b[0m\u001b[0mpop\u001b[0m\u001b[0;34m(\u001b[0m\u001b[0;34m)\u001b[0m\u001b[0;34m.\u001b[0m\u001b[0mdata\u001b[0m\u001b[0;34m\u001b[0m\u001b[0m\n",
      "\u001b[0;32m/opt/conda/lib/python3.6/site-packages/intervaltree/intervaltree.py\u001b[0m in \u001b[0;36msearch\u001b[0;34m(self, begin, end, strict)\u001b[0m\n\u001b[1;32m    773\u001b[0m         \u001b[0;32mreturn\u001b[0m \u001b[0;36m0\u001b[0m \u001b[0;34m==\u001b[0m \u001b[0mlen\u001b[0m\u001b[0;34m(\u001b[0m\u001b[0mself\u001b[0m\u001b[0;34m)\u001b[0m\u001b[0;34m\u001b[0m\u001b[0m\n\u001b[1;32m    774\u001b[0m \u001b[0;34m\u001b[0m\u001b[0m\n\u001b[0;32m--> 775\u001b[0;31m     \u001b[0;32mdef\u001b[0m \u001b[0msearch\u001b[0m\u001b[0;34m(\u001b[0m\u001b[0mself\u001b[0m\u001b[0;34m,\u001b[0m \u001b[0mbegin\u001b[0m\u001b[0;34m,\u001b[0m \u001b[0mend\u001b[0m\u001b[0;34m=\u001b[0m\u001b[0;32mNone\u001b[0m\u001b[0;34m,\u001b[0m \u001b[0mstrict\u001b[0m\u001b[0;34m=\u001b[0m\u001b[0;32mFalse\u001b[0m\u001b[0;34m)\u001b[0m\u001b[0;34m:\u001b[0m\u001b[0;34m\u001b[0m\u001b[0m\n\u001b[0m\u001b[1;32m    776\u001b[0m         \"\"\"\n\u001b[1;32m    777\u001b[0m         \u001b[0mReturns\u001b[0m \u001b[0ma\u001b[0m \u001b[0mset\u001b[0m \u001b[0mof\u001b[0m \u001b[0mall\u001b[0m \u001b[0mintervals\u001b[0m \u001b[0moverlapping\u001b[0m \u001b[0mthe\u001b[0m \u001b[0mgiven\u001b[0m \u001b[0mrange\u001b[0m\u001b[0;34m.\u001b[0m \u001b[0mOr\u001b[0m\u001b[0;34m,\u001b[0m\u001b[0;34m\u001b[0m\u001b[0m\n",
      "\u001b[0;31mKeyboardInterrupt\u001b[0m: "
     ]
    }
   ],
   "source": [
    "rule_sets = ['KB/general_modifiers_50-rules.yml', \\\n",
    "             'KB/general_modifiers_half-rules.yml', \\\n",
    "             'KB/general_modifiers_all-rules.yml']\n",
    "\n",
    "for rule_set in rule_sets:\n",
    "    runtime = timeit.repeat('do_anns(doc)',\n",
    "                            setup = 'print(\".\", end = \"\"); from __main__ import do_anns, doc', #ugh...note the import\n",
    "                            repeat = 3, \n",
    "                            number = 10) ##simulates a 10 note run\n",
    "    print(\"Time(s) for rule set \",rule_set,\"for 10 notes: \", runtime)\n",
    "              "
   ]
  },
  {
   "cell_type": "markdown",
   "metadata": {},
   "source": [
    "##### The \"half-rules.yml\" context rule set has about 190 rules, while the \"all-rules.yml\" set has about 380 rules. Yet these runs times are **not so linear**. Why is that, do you think?"
   ]
  },
  {
   "cell_type": "markdown",
   "metadata": {},
   "source": [
    "#### OPTIONAL: Try reading a hundred notes from MIMIC II and timing the pipeline here on each note, rather than simply procesing the same note repeatedly like we do above. To ge you started, here's the SQL:\n"
   ]
  },
  {
   "cell_type": "code",
   "execution_count": 14,
   "metadata": {},
   "outputs": [
    {
     "name": "stdout",
     "output_type": "stream",
     "text": [
      "Enter MySQL passwd for jovyan········\n"
     ]
    }
   ],
   "source": [
    "import pymysql\n",
    "import pandas as pd\n",
    "import getpass\n",
    "import re\n",
    "\n",
    "conn = pymysql.connect(host=\"mysql\",\n",
    "                       port=3306,user=\"jovyan\",\n",
    "                       passwd=getpass.getpass(\"Enter MySQL passwd for jovyan\"),db='mimic2')"
   ]
  },
  {
   "cell_type": "code",
   "execution_count": 16,
   "metadata": {},
   "outputs": [],
   "source": [
    "notes = pd.read_sql(\"SELECT DISTINCT * FROM noteevents limit 100\",conn)"
   ]
  },
  {
   "cell_type": "markdown",
   "metadata": {},
   "source": [
    "### WRITE YOUR timer here"
   ]
  },
  {
   "cell_type": "code",
   "execution_count": null,
   "metadata": {},
   "outputs": [],
   "source": [
    "\n",
    "\n",
    "\n",
    "\n",
    "\n",
    "\n",
    "\n",
    "\n",
    "\n",
    "\n",
    "\n",
    "\n"
   ]
  },
  {
   "cell_type": "code",
   "execution_count": 17,
   "metadata": {},
   "outputs": [
    {
     "name": "stdout",
     "output_type": "stream",
     "text": [
      "0    \\n \\n \\n \\nAdmission Date:  [**2644-1-17**]   ...\n",
      "1    \\n\\n\\n     DATE: [**2644-1-17**] 10:53 AM\\n   ...\n",
      "2    \\n\\n\\n     DATE: [**2644-1-17**] 10:43 AM\\n   ...\n",
      "3    \\n\\n\\n     DATE: [**2644-1-17**] 6:37 AM\\n    ...\n",
      "4    \\nNSG Admit noteB:\\nPlease refer to careview a...\n",
      "5    \\nNursing Progress Note:\\nPlease refer to Care...\n",
      "Name: text, dtype: object\n",
      "Time(s) for note  0 :  [0.7316176239401102]\n",
      "Time(s) for note  1 :  [0.4353047562763095]\n",
      "Time(s) for note  2 :  [0.4375575017184019]\n",
      "Time(s) for note  3 :  [0.4747073329053819]\n",
      "Time(s) for note  4 :  [0.384316080249846]\n",
      "Time(s) for note  5 :  [0.41466278815642]\n",
      "Time(s) for note  6 :  [0.411079544108361]\n",
      "Time(s) for note  7 :  [0.3699334729462862]\n",
      "Time(s) for note  8 :  [0.4559739320538938]\n",
      "Time(s) for note  9 :  [1.1638053110800683]\n",
      "Time(s) for note  10 :  [0.3982433909550309]\n",
      "Time(s) for note  11 :  [0.4106411477550864]\n",
      "Time(s) for note  12 :  [0.43181421328336]\n",
      "Time(s) for note  13 :  [0.46900928998366]\n",
      "Time(s) for note  14 :  [0.41887383395805955]\n",
      "Time(s) for note  15 :  [0.3877343558706343]\n",
      "Time(s) for note  16 :  [0.4221534109674394]\n",
      "Time(s) for note  17 :  [0.4250075169838965]\n",
      "Time(s) for note  18 :  [0.3659013039432466]\n",
      "Time(s) for note  19 :  [0.4717013379558921]\n",
      "Time(s) for note  20 :  [0.40885087195783854]\n",
      "Time(s) for note  21 :  [2.1004727301187813]\n",
      "Empty note... 22\n",
      "Time(s) for note  23 :  [0.397363499738276]\n",
      "Time(s) for note  24 :  [0.3504670229740441]\n",
      "Time(s) for note  25 :  [0.43923392659053206]\n",
      "Time(s) for note  26 :  [0.3253987389616668]\n",
      "Time(s) for note  27 :  [0.8275471408851445]\n",
      "Time(s) for note  28 :  [0.3897170079872012]\n",
      "Time(s) for note  29 :  [0.44414465175941586]\n",
      "Time(s) for note  30 :  [0.4084113477729261]\n",
      "Time(s) for note  31 :  [0.3586955829523504]\n",
      "Time(s) for note  32 :  [0.4149197186343372]\n",
      "Time(s) for note  33 :  [0.3983100699260831]\n",
      "Time(s) for note  34 :  [0.3910616561770439]\n",
      "Time(s) for note  35 :  [0.6697112009860575]\n",
      "Time(s) for note  36 :  [0.32131860638037324]\n",
      "Time(s) for note  37 :  [0.3336272710002959]\n",
      "Time(s) for note  38 :  [0.3685702169314027]\n",
      "Time(s) for note  39 :  [0.3776055439375341]\n",
      "Time(s) for note  40 :  [0.3462762599810958]\n",
      "Time(s) for note  41 :  [0.4571647588163614]\n",
      "Time(s) for note  42 :  [0.3145478372462094]\n",
      "Time(s) for note  43 :  [0.4176507177762687]\n",
      "Time(s) for note  44 :  [0.32755592558532953]\n",
      "Time(s) for note  45 :  [0.3574410858564079]\n",
      "Time(s) for note  46 :  [0.3516779546625912]\n",
      "Time(s) for note  47 :  [0.3652235232293606]\n",
      "Time(s) for note  48 :  [0.32671934412792325]\n",
      "Time(s) for note  49 :  [0.38409636029973626]\n",
      "Time(s) for note  50 :  [0.40195771073922515]\n",
      "Time(s) for note  51 :  [0.37146549206227064]\n",
      "Time(s) for note  52 :  [0.33941321913152933]\n",
      "Time(s) for note  53 :  [0.4647787809371948]\n",
      "Time(s) for note  54 :  [0.35480548022314906]\n",
      "Time(s) for note  55 :  [0.3877634322270751]\n",
      "Time(s) for note  56 :  [0.3573665712028742]\n",
      "Time(s) for note  57 :  [0.3580986810848117]\n",
      "Time(s) for note  58 :  [0.38140816101804376]\n",
      "Time(s) for note  59 :  [1.0009881108999252]\n",
      "Time(s) for note  60 :  [0.42536929016932845]\n",
      "Time(s) for note  61 :  [0.39980862801894546]\n",
      "Time(s) for note  62 :  [0.41305079823359847]\n",
      "Time(s) for note  63 :  [0.39064683206379414]\n",
      "Time(s) for note  64 :  [0.39930364675819874]\n",
      "Time(s) for note  65 :  [0.5780937960371375]\n",
      "Time(s) for note  66 :  [0.42356876097619534]\n",
      "Time(s) for note  67 :  [0.3818306350149214]\n",
      "Time(s) for note  68 :  [0.39336611703038216]\n",
      "Time(s) for note  69 :  [0.33261521300300956]\n",
      "Time(s) for note  70 :  [0.4406775999814272]\n",
      "Time(s) for note  71 :  [0.3586843078956008]\n",
      "Time(s) for note  72 :  [0.378320150077343]\n",
      "Time(s) for note  73 :  [0.444939904846251]\n",
      "Time(s) for note  74 :  [0.3274641572497785]\n",
      "Time(s) for note  75 :  [0.3639212651178241]\n",
      "Time(s) for note  76 :  [0.47867284528911114]\n",
      "Time(s) for note  77 :  [0.4311546999961138]\n",
      "Time(s) for note  78 :  [0.4413587967865169]\n",
      "Time(s) for note  79 :  [0.5615307311527431]\n",
      "Time(s) for note  80 :  [0.637461831793189]\n",
      "Time(s) for note  81 :  [0.5036811088211834]\n",
      "Time(s) for note  82 :  [0.40903394389897585]\n",
      "Time(s) for note  83 :  [0.549204905051738]\n",
      "Time(s) for note  84 :  [0.4821044132113457]\n",
      "Time(s) for note  85 :  [0.4250588030554354]\n",
      "Time(s) for note  86 :  [0.4569206037558615]\n",
      "Time(s) for note  87 :  [0.4165756911970675]\n",
      "Time(s) for note  88 :  [0.43356593092903495]\n",
      "Time(s) for note  89 :  [0.5470191398635507]\n",
      "Time(s) for note  90 :  [0.4246494467370212]\n",
      "Time(s) for note  91 :  [0.3662318419665098]\n",
      "Time(s) for note  92 :  [0.5699026831425726]\n",
      "Time(s) for note  93 :  [0.55301808193326]\n",
      "Time(s) for note  94 :  [0.4776574959978461]\n",
      "Time(s) for note  95 :  [0.6549209733493626]\n",
      "Time(s) for note  96 :  [0.38329774606972933]\n",
      "Time(s) for note  97 :  [0.41170410020276904]\n",
      "Time(s) for note  98 :  [0.45003594597801566]\n",
      "Time(s) for note  99 :  [0.6251382566988468]\n"
     ]
    }
   ],
   "source": [
    "#Here's ours:\n",
    "print(notes.text[0:6])\n",
    "rule_set = 'KB/general_modifiers_all-rules.yml'\n",
    "for index, note in notes.iterrows():\n",
    "    new_note = note.text.replace('\\n',' ')\n",
    "    doc = Document()\n",
    "    doc.text = new_note  #sets up the text for the next note to run throgh the pipe\n",
    "    doc.load_annotations_from_brat('data/test.ann')#since we don't have annotations yet, just use the test annotations\n",
    "    if re.match(r'(\\s*)(\\w+)', doc.text) != None:   #make sure the note has characters in it, else RUSH could crash\n",
    "        runtime = timeit.repeat('do_anns(doc)',\n",
    "                                setup = 'from __main__ import do_anns, doc', #ugh...note the import\n",
    "                                repeat = 1, \n",
    "                                number = 1)\n",
    "        print(\"Time(s) for note \",index,\": \", runtime)\n",
    "    else:\n",
    "        print(\"Empty note...\",index)"
   ]
  },
  {
   "cell_type": "markdown",
   "metadata": {},
   "source": [
    "### Try plotting these times as a histogram (hint, save the runtimes right in the notes dataframe...)"
   ]
  },
  {
   "cell_type": "code",
   "execution_count": null,
   "metadata": {},
   "outputs": [],
   "source": []
  }
 ],
 "metadata": {
  "kernelspec": {
   "display_name": "Python 3",
   "language": "python",
   "name": "python3"
  },
  "language_info": {
   "codemirror_mode": {
    "name": "ipython",
    "version": 3
   },
   "file_extension": ".py",
   "mimetype": "text/x-python",
   "name": "python",
   "nbconvert_exporter": "python",
   "pygments_lexer": "ipython3",
   "version": "3.6.4"
  }
 },
 "nbformat": 4,
 "nbformat_minor": 2
}
