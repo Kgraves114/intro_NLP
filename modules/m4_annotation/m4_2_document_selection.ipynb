{
 "cells": [
  {
   "cell_type": "markdown",
   "metadata": {},
   "source": [
    "## Document selection for manual anntoation\n",
    "\n",
    "Manual annotation is a process of marking documents with annotations that can be used to train or test a natural language processing system. We are using brat annotation tool to acquire annotations for your final project. \n",
    "Setting up a project within brat tool requires a set of files:\n",
    "- *.txt files - Text files to be annotated\n",
    "- *.ann files - Annotation files that will store annotations\n",
    "- annotation.conf: annotation type configuration\n",
    "- visual.conf: annotation display configuration\n",
    "- tools.conf: annotation tool configuration\n",
    "- kb_shortcuts.conf: keyboard shortcut tool configuration\n",
    "\n",
    "Each annotation project typically defines its own annotation.conf. Defining visual.conf, tools.conf and kb_shortcuts.conf is not necessary, and the system falls back on simple default visuals, tools and shortcuts if these files are not present. \n",
    "\n",
    "First we need to select files to be annotated. For our project we will draw documents from MIMIC database.\n",
    "\n",
    "Let's connect to the database (remember, the password to the database is the same as the user name):\n"
   ]
  },
  {
   "cell_type": "code",
   "execution_count": 1,
   "metadata": {},
   "outputs": [
    {
     "name": "stdout",
     "output_type": "stream",
     "text": [
      "Enter MySQL passwd for jovyan········\n"
     ]
    }
   ],
   "source": [
    "import pymysql\n",
    "import pandas as pd\n",
    "import getpass\n",
    "conn = pymysql.connect(host=\"mysql\",\n",
    "                       port=3306,user=\"jovyan\",\n",
    "                       passwd=getpass.getpass(\"Enter MySQL passwd for jovyan\"),db='mimic2')"
   ]
  },
  {
   "cell_type": "markdown",
   "metadata": {},
   "source": [
    "We have connected to the database. Let's see the tables that we have to work with."
   ]
  },
  {
   "cell_type": "code",
   "execution_count": null,
   "metadata": {},
   "outputs": [],
   "source": [
    "pd.read_sql(\"SELECT table_name, table_rows FROM information_schema.tables where table_schema='mimic2'\", conn)"
   ]
  },
  {
   "cell_type": "markdown",
   "metadata": {},
   "source": [
    "There are quite a few tables to explore and you should do it for your project. The documents are in \"noteevents\" table. Let's see what columns this table has. "
   ]
  },
  {
   "cell_type": "code",
   "execution_count": null,
   "metadata": {},
   "outputs": [],
   "source": [
    "pd.read_sql(\"SELECT column_name, is_nullable, column_type FROM information_schema.columns WHERE table_name = 'noteevents'\",conn)\n"
   ]
  },
  {
   "cell_type": "markdown",
   "metadata": {},
   "source": [
    "Note that there are only two fields that are not nullable, which means that cannot be blank, so they have a potential to be the primary key. Let's take a look at what the data looks like:"
   ]
  },
  {
   "cell_type": "code",
   "execution_count": null,
   "metadata": {},
   "outputs": [],
   "source": [
    "pd.read_sql(\"SELECT subject_id, charttime, text  from noteevents where text is not null limit 10\",conn)\n"
   ]
  },
  {
   "cell_type": "markdown",
   "metadata": {},
   "source": [
    " The table does not have document id, but has \"subject_id\" as a patient identifier. This is a limitation of a Demo dataset. NOTEID column exists in the full MIMIC database, but not in the current demo version. We will have to come up with a unique name for the documents.\n",
    " \n",
    "### Select documents from the databse\n",
    "\n",
    "For this demo, we will select 10 random documents from \"noteevents\" table that contain a keyword that we are interested in."
   ]
  },
  {
   "cell_type": "code",
   "execution_count": 2,
   "metadata": {},
   "outputs": [
    {
     "data": {
      "text/html": [
       "<div>\n",
       "<table border=\"1\" class=\"dataframe\">\n",
       "  <thead>\n",
       "    <tr style=\"text-align: right;\">\n",
       "      <th></th>\n",
       "      <th>subject_id</th>\n",
       "      <th>text</th>\n",
       "    </tr>\n",
       "  </thead>\n",
       "  <tbody>\n",
       "    <tr>\n",
       "      <th>0</th>\n",
       "      <td>3974</td>\n",
       "      <td>\\n\\n\\n     DATE: [**2534-6-13**] 8:26 AM\\n    ...</td>\n",
       "    </tr>\n",
       "    <tr>\n",
       "      <th>1</th>\n",
       "      <td>10130</td>\n",
       "      <td>\\n\\n\\n     DATE: [**2528-1-31**] 4:17 PM\\n    ...</td>\n",
       "    </tr>\n",
       "    <tr>\n",
       "      <th>2</th>\n",
       "      <td>23395</td>\n",
       "      <td>\\n\\n\\n     DATE: [**3208-5-15**] 3:09 PM\\n    ...</td>\n",
       "    </tr>\n",
       "    <tr>\n",
       "      <th>3</th>\n",
       "      <td>10424</td>\n",
       "      <td>\\n \\n \\n \\nAdmission Date:  [**3268-7-6**]    ...</td>\n",
       "    </tr>\n",
       "    <tr>\n",
       "      <th>4</th>\n",
       "      <td>6112</td>\n",
       "      <td>\\n\\n\\n     DATE: [**2802-3-18**] 2:01 PM\\n    ...</td>\n",
       "    </tr>\n",
       "    <tr>\n",
       "      <th>5</th>\n",
       "      <td>17167</td>\n",
       "      <td>\\n\\n\\n     DATE: [**3025-6-12**] 5:59 AM\\n    ...</td>\n",
       "    </tr>\n",
       "    <tr>\n",
       "      <th>6</th>\n",
       "      <td>21280</td>\n",
       "      <td>\\n\\n\\n     DATE: [**2503-11-26**] 4:20 PM\\n   ...</td>\n",
       "    </tr>\n",
       "    <tr>\n",
       "      <th>7</th>\n",
       "      <td>8396</td>\n",
       "      <td>\\n \\n \\n \\nAdmission Date:  [**2838-5-27**]   ...</td>\n",
       "    </tr>\n",
       "    <tr>\n",
       "      <th>8</th>\n",
       "      <td>10912</td>\n",
       "      <td>\\n\\n\\n     DATE: [**3292-10-9**] 10:12 AM\\n   ...</td>\n",
       "    </tr>\n",
       "    <tr>\n",
       "      <th>9</th>\n",
       "      <td>16963</td>\n",
       "      <td>\\nNursing Progress Note\\nNo siginificant event...</td>\n",
       "    </tr>\n",
       "  </tbody>\n",
       "</table>\n",
       "</div>"
      ],
      "text/plain": [
       "   subject_id                                               text\n",
       "0        3974  \\n\\n\\n     DATE: [**2534-6-13**] 8:26 AM\\n    ...\n",
       "1       10130  \\n\\n\\n     DATE: [**2528-1-31**] 4:17 PM\\n    ...\n",
       "2       23395  \\n\\n\\n     DATE: [**3208-5-15**] 3:09 PM\\n    ...\n",
       "3       10424  \\n \\n \\n \\nAdmission Date:  [**3268-7-6**]    ...\n",
       "4        6112  \\n\\n\\n     DATE: [**2802-3-18**] 2:01 PM\\n    ...\n",
       "5       17167  \\n\\n\\n     DATE: [**3025-6-12**] 5:59 AM\\n    ...\n",
       "6       21280  \\n\\n\\n     DATE: [**2503-11-26**] 4:20 PM\\n   ...\n",
       "7        8396  \\n \\n \\n \\nAdmission Date:  [**2838-5-27**]   ...\n",
       "8       10912  \\n\\n\\n     DATE: [**3292-10-9**] 10:12 AM\\n   ...\n",
       "9       16963  \\nNursing Progress Note\\nNo siginificant event..."
      ]
     },
     "execution_count": 2,
     "metadata": {},
     "output_type": "execute_result"
    }
   ],
   "source": [
    "docs_text = pd.read_sql(\"SELECT subject_id, text from noteevents   where text like '% fever %' order by rand() limit  10\",conn)\n",
    "docs_text"
   ]
  },
  {
   "cell_type": "markdown",
   "metadata": {},
   "source": [
    "Iterate through the documents to see what they look like."
   ]
  },
  {
   "cell_type": "code",
   "execution_count": null,
   "metadata": {},
   "outputs": [],
   "source": [
    "for index, row in docs_text.iterrows():\n",
    "    print(index, row[0], row[1])"
   ]
  },
  {
   "cell_type": "markdown",
   "metadata": {},
   "source": [
    "### Wrting documents into files\n",
    "\n",
    "To keep your documents separate from everyone elses, enter your UNID. "
   ]
  },
  {
   "cell_type": "code",
   "execution_count": 3,
   "metadata": {},
   "outputs": [],
   "source": [
    "unid = 'u0384041'"
   ]
  },
  {
   "cell_type": "markdown",
   "metadata": {},
   "source": [
    "Check the folder just to see that you have prepared your workspace."
   ]
  },
  {
   "cell_type": "code",
   "execution_count": null,
   "metadata": {},
   "outputs": [],
   "source": [
    "%%bash  -s \"$unid\"\n",
    "echo ~/BRAT/$1/*\n",
    "ls   ~/BRAT/$1/ "
   ]
  },
  {
   "cell_type": "markdown",
   "metadata": {},
   "source": [
    "Create a folder for your project. Let's name it \"Project_1\""
   ]
  },
  {
   "cell_type": "code",
   "execution_count": 4,
   "metadata": {},
   "outputs": [
    {
     "name": "stdout",
     "output_type": "stream",
     "text": [
      "/home/u0384041/BRAT/u0384041/Example /home/u0384041/BRAT/u0384041/Project_1\n",
      "Example\n",
      "Project_1\n"
     ]
    },
    {
     "name": "stderr",
     "output_type": "stream",
     "text": [
      "mkdir: cannot create directory ‘/home/u0384041/BRAT/u0384041/Project_1’: File exists\n"
     ]
    }
   ],
   "source": [
    "%%bash  -s \"$unid\"\n",
    "mkdir   ~/BRAT/$1/Project_1 \n",
    "echo ~/BRAT/$1/*\n",
    "ls   ~/BRAT/$1/ "
   ]
  },
  {
   "cell_type": "markdown",
   "metadata": {},
   "source": [
    "The project is created, so now we can write our files. Text files from \"text\" field will contain the note text, and the file name will be a combination of subject_id and the row index from the data frame. This combination will create a unique name for your files. \".ann\" files are blank at first."
   ]
  },
  {
   "cell_type": "code",
   "execution_count": 5,
   "metadata": {},
   "outputs": [
    {
     "name": "stdout",
     "output_type": "stream",
     "text": [
      "/home/u0384041/BRAT/u0384041/Project_1/3974_0.txt\n",
      "/home/u0384041/BRAT/u0384041/Project_1/3974_0.ann\n",
      "/home/u0384041/BRAT/u0384041/Project_1/10130_1.txt\n",
      "/home/u0384041/BRAT/u0384041/Project_1/10130_1.ann\n",
      "/home/u0384041/BRAT/u0384041/Project_1/23395_2.txt\n",
      "/home/u0384041/BRAT/u0384041/Project_1/23395_2.ann\n",
      "/home/u0384041/BRAT/u0384041/Project_1/10424_3.txt\n",
      "/home/u0384041/BRAT/u0384041/Project_1/10424_3.ann\n",
      "/home/u0384041/BRAT/u0384041/Project_1/6112_4.txt\n",
      "/home/u0384041/BRAT/u0384041/Project_1/6112_4.ann\n",
      "/home/u0384041/BRAT/u0384041/Project_1/17167_5.txt\n",
      "/home/u0384041/BRAT/u0384041/Project_1/17167_5.ann\n",
      "/home/u0384041/BRAT/u0384041/Project_1/21280_6.txt\n",
      "/home/u0384041/BRAT/u0384041/Project_1/21280_6.ann\n",
      "/home/u0384041/BRAT/u0384041/Project_1/8396_7.txt\n",
      "/home/u0384041/BRAT/u0384041/Project_1/8396_7.ann\n",
      "/home/u0384041/BRAT/u0384041/Project_1/10912_8.txt\n",
      "/home/u0384041/BRAT/u0384041/Project_1/10912_8.ann\n",
      "/home/u0384041/BRAT/u0384041/Project_1/16963_9.txt\n",
      "/home/u0384041/BRAT/u0384041/Project_1/16963_9.ann\n"
     ]
    }
   ],
   "source": [
    "path = \"/home/\"+str(unid)+\"/BRAT/\"+str(unid)+\"/Project_1\"\n",
    "for index, row in docs_text.iterrows():\n",
    "    new_file_path_txt = path+\"/\"+str(row[0]) + \"_\" + str(index) + \".txt\" \n",
    "    new_file_path_ann = path+\"/\"+str(row[0]) + \"_\" + str(index) + \".ann\" \n",
    "    print(new_file_path_txt)\n",
    "    print(new_file_path_ann)   \n",
    "    "
   ]
  },
  {
   "cell_type": "code",
   "execution_count": 6,
   "metadata": {},
   "outputs": [],
   "source": [
    "for index, row in docs_text.iterrows():\n",
    "    new_file_path_txt = path+\"/\"+str(row[0]) + \"_\" + str(index) + \".txt\" \n",
    "    new_file_path_ann = path+\"/\"+str(row[0]) + \"_\" + str(index) + \".ann\" \n",
    "    f=open(new_file_path_txt, \"w\")\n",
    "    f.write(row[1])\n",
    "    f.close()\n",
    "    f=open(new_file_path_ann, \"w\")\n",
    "    f.write(\"\")\n",
    "    f.close()"
   ]
  },
  {
   "cell_type": "markdown",
   "metadata": {},
   "source": [
    "Check to make sure that the files got written to the correct folder."
   ]
  },
  {
   "cell_type": "code",
   "execution_count": 7,
   "metadata": {},
   "outputs": [
    {
     "name": "stdout",
     "output_type": "stream",
     "text": [
      "/home/u0384041/BRAT/u0384041/Project_1/10130_1.ann\n",
      "/home/u0384041/BRAT/u0384041/Project_1/10130_1.txt\n",
      "/home/u0384041/BRAT/u0384041/Project_1/10424_3.ann\n",
      "/home/u0384041/BRAT/u0384041/Project_1/10424_3.txt\n",
      "/home/u0384041/BRAT/u0384041/Project_1/10912_8.ann\n",
      "/home/u0384041/BRAT/u0384041/Project_1/10912_8.txt\n",
      "/home/u0384041/BRAT/u0384041/Project_1/14574_1.ann\n",
      "/home/u0384041/BRAT/u0384041/Project_1/14574_1.txt\n",
      "/home/u0384041/BRAT/u0384041/Project_1/16963_9.ann\n",
      "/home/u0384041/BRAT/u0384041/Project_1/16963_9.txt\n",
      "/home/u0384041/BRAT/u0384041/Project_1/17167_5.ann\n",
      "/home/u0384041/BRAT/u0384041/Project_1/17167_5.txt\n",
      "/home/u0384041/BRAT/u0384041/Project_1/18671_6.ann\n",
      "/home/u0384041/BRAT/u0384041/Project_1/18671_6.txt\n",
      "/home/u0384041/BRAT/u0384041/Project_1/2014_2.ann\n",
      "/home/u0384041/BRAT/u0384041/Project_1/2014_2.txt\n",
      "/home/u0384041/BRAT/u0384041/Project_1/21280_6.ann\n",
      "/home/u0384041/BRAT/u0384041/Project_1/21280_6.txt\n",
      "/home/u0384041/BRAT/u0384041/Project_1/21553_0.ann\n",
      "/home/u0384041/BRAT/u0384041/Project_1/21553_0.txt\n",
      "/home/u0384041/BRAT/u0384041/Project_1/23395_2.ann\n",
      "/home/u0384041/BRAT/u0384041/Project_1/23395_2.txt\n",
      "/home/u0384041/BRAT/u0384041/Project_1/24653_5.ann\n",
      "/home/u0384041/BRAT/u0384041/Project_1/24653_5.txt\n",
      "/home/u0384041/BRAT/u0384041/Project_1/3974_0.ann\n",
      "/home/u0384041/BRAT/u0384041/Project_1/3974_0.txt\n",
      "/home/u0384041/BRAT/u0384041/Project_1/6112_4.ann\n",
      "/home/u0384041/BRAT/u0384041/Project_1/6112_4.txt\n",
      "/home/u0384041/BRAT/u0384041/Project_1/6864_8.ann\n",
      "/home/u0384041/BRAT/u0384041/Project_1/6864_8.txt\n",
      "/home/u0384041/BRAT/u0384041/Project_1/7144_9.ann\n",
      "/home/u0384041/BRAT/u0384041/Project_1/7144_9.txt\n",
      "/home/u0384041/BRAT/u0384041/Project_1/7519_7.ann\n",
      "/home/u0384041/BRAT/u0384041/Project_1/7519_7.txt\n",
      "/home/u0384041/BRAT/u0384041/Project_1/8396_7.ann\n",
      "/home/u0384041/BRAT/u0384041/Project_1/8396_7.txt\n",
      "/home/u0384041/BRAT/u0384041/Project_1/8775_4.ann\n",
      "/home/u0384041/BRAT/u0384041/Project_1/8775_4.txt\n",
      "/home/u0384041/BRAT/u0384041/Project_1/9800_3.ann\n",
      "/home/u0384041/BRAT/u0384041/Project_1/9800_3.txt\n",
      "/home/u0384041/BRAT/u0384041/Project_1/annotation.conf\n",
      "/home/u0384041/BRAT/u0384041/Project_1/visual.conf\n"
     ]
    }
   ],
   "source": [
    "%%bash  -s \"$unid\"  \n",
    "ls   ~/BRAT/$1/Project_1/*"
   ]
  },
  {
   "cell_type": "markdown",
   "metadata": {},
   "source": [
    "Now you have files to annotate."
   ]
  }
 ],
 "metadata": {
  "kernelspec": {
   "display_name": "Python 3",
   "language": "python",
   "name": "python3"
  },
  "language_info": {
   "codemirror_mode": {
    "name": "ipython",
    "version": 3
   },
   "file_extension": ".py",
   "mimetype": "text/x-python",
   "name": "python",
   "nbconvert_exporter": "python",
   "pygments_lexer": "ipython3",
   "version": "3.6.4"
  }
 },
 "nbformat": 4,
 "nbformat_minor": 2
}
